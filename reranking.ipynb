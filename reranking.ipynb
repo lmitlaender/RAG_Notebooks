{
 "cells": [
  {
   "cell_type": "markdown",
   "metadata": {},
   "source": [
    "# Install requirements"
   ]
  },
  {
   "cell_type": "code",
   "execution_count": 1,
   "metadata": {},
   "outputs": [
    {
     "name": "stdout",
     "output_type": "stream",
     "text": [
      "Requirement already satisfied: sentence-transformers in c:\\onecx\\.venv\\lib\\site-packages (2.2.2)\n",
      "Requirement already satisfied: transformers<5.0.0,>=4.6.0 in c:\\onecx\\.venv\\lib\\site-packages (from sentence-transformers) (4.35.2)\n",
      "Requirement already satisfied: tqdm in c:\\onecx\\.venv\\lib\\site-packages (from sentence-transformers) (4.66.1)\n",
      "Requirement already satisfied: torch>=1.6.0 in c:\\onecx\\.venv\\lib\\site-packages (from sentence-transformers) (2.1.1)\n",
      "Requirement already satisfied: torchvision in c:\\onecx\\.venv\\lib\\site-packages (from sentence-transformers) (0.16.1)\n",
      "Requirement already satisfied: numpy in c:\\onecx\\.venv\\lib\\site-packages (from sentence-transformers) (1.26.2)\n",
      "Requirement already satisfied: scikit-learn in c:\\onecx\\.venv\\lib\\site-packages (from sentence-transformers) (1.3.2)\n",
      "Requirement already satisfied: scipy in c:\\onecx\\.venv\\lib\\site-packages (from sentence-transformers) (1.11.4)\n",
      "Requirement already satisfied: nltk in c:\\onecx\\.venv\\lib\\site-packages (from sentence-transformers) (3.8.1)\n",
      "Requirement already satisfied: sentencepiece in c:\\onecx\\.venv\\lib\\site-packages (from sentence-transformers) (0.1.99)\n",
      "Requirement already satisfied: huggingface-hub>=0.4.0 in c:\\onecx\\.venv\\lib\\site-packages (from sentence-transformers) (0.19.1)\n",
      "Requirement already satisfied: filelock in c:\\onecx\\.venv\\lib\\site-packages (from huggingface-hub>=0.4.0->sentence-transformers) (3.13.1)\n",
      "Requirement already satisfied: fsspec>=2023.5.0 in c:\\onecx\\.venv\\lib\\site-packages (from huggingface-hub>=0.4.0->sentence-transformers) (2023.10.0)\n",
      "Requirement already satisfied: requests in c:\\onecx\\.venv\\lib\\site-packages (from huggingface-hub>=0.4.0->sentence-transformers) (2.31.0)\n",
      "Requirement already satisfied: pyyaml>=5.1 in c:\\onecx\\.venv\\lib\\site-packages (from huggingface-hub>=0.4.0->sentence-transformers) (6.0.1)\n",
      "Requirement already satisfied: typing-extensions>=3.7.4.3 in c:\\onecx\\.venv\\lib\\site-packages (from huggingface-hub>=0.4.0->sentence-transformers) (4.8.0)\n",
      "Requirement already satisfied: packaging>=20.9 in c:\\onecx\\.venv\\lib\\site-packages (from huggingface-hub>=0.4.0->sentence-transformers) (23.2)\n",
      "Requirement already satisfied: sympy in c:\\onecx\\.venv\\lib\\site-packages (from torch>=1.6.0->sentence-transformers) (1.12)\n",
      "Requirement already satisfied: networkx in c:\\onecx\\.venv\\lib\\site-packages (from torch>=1.6.0->sentence-transformers) (3.2.1)\n",
      "Requirement already satisfied: jinja2 in c:\\onecx\\.venv\\lib\\site-packages (from torch>=1.6.0->sentence-transformers) (3.1.2)\n",
      "Requirement already satisfied: colorama in c:\\onecx\\.venv\\lib\\site-packages (from tqdm->sentence-transformers) (0.4.6)\n",
      "Requirement already satisfied: regex!=2019.12.17 in c:\\onecx\\.venv\\lib\\site-packages (from transformers<5.0.0,>=4.6.0->sentence-transformers) (2023.10.3)\n",
      "Requirement already satisfied: tokenizers<0.19,>=0.14 in c:\\onecx\\.venv\\lib\\site-packages (from transformers<5.0.0,>=4.6.0->sentence-transformers) (0.15.0)\n",
      "Requirement already satisfied: safetensors>=0.3.1 in c:\\onecx\\.venv\\lib\\site-packages (from transformers<5.0.0,>=4.6.0->sentence-transformers) (0.4.0)\n",
      "Requirement already satisfied: click in c:\\onecx\\.venv\\lib\\site-packages (from nltk->sentence-transformers) (8.1.7)\n",
      "Requirement already satisfied: joblib in c:\\onecx\\.venv\\lib\\site-packages (from nltk->sentence-transformers) (1.3.2)\n",
      "Requirement already satisfied: threadpoolctl>=2.0.0 in c:\\onecx\\.venv\\lib\\site-packages (from scikit-learn->sentence-transformers) (3.2.0)\n",
      "Requirement already satisfied: pillow!=8.3.*,>=5.3.0 in c:\\onecx\\.venv\\lib\\site-packages (from torchvision->sentence-transformers) (10.1.0)\n",
      "Requirement already satisfied: MarkupSafe>=2.0 in c:\\onecx\\.venv\\lib\\site-packages (from jinja2->torch>=1.6.0->sentence-transformers) (2.1.3)\n",
      "Requirement already satisfied: charset-normalizer<4,>=2 in c:\\onecx\\.venv\\lib\\site-packages (from requests->huggingface-hub>=0.4.0->sentence-transformers) (3.3.2)\n",
      "Requirement already satisfied: idna<4,>=2.5 in c:\\onecx\\.venv\\lib\\site-packages (from requests->huggingface-hub>=0.4.0->sentence-transformers) (3.4)\n",
      "Requirement already satisfied: urllib3<3,>=1.21.1 in c:\\onecx\\.venv\\lib\\site-packages (from requests->huggingface-hub>=0.4.0->sentence-transformers) (1.26.18)\n",
      "Requirement already satisfied: certifi>=2017.4.17 in c:\\onecx\\.venv\\lib\\site-packages (from requests->huggingface-hub>=0.4.0->sentence-transformers) (2023.7.22)\n",
      "Requirement already satisfied: mpmath>=0.19 in c:\\onecx\\.venv\\lib\\site-packages (from sympy->torch>=1.6.0->sentence-transformers) (1.3.0)\n"
     ]
    },
    {
     "name": "stderr",
     "output_type": "stream",
     "text": [
      "\n",
      "[notice] A new release of pip is available: 23.1.2 -> 23.3.1\n",
      "[notice] To update, run: python.exe -m pip install --upgrade pip\n"
     ]
    },
    {
     "name": "stdout",
     "output_type": "stream",
     "text": [
      "Requirement already satisfied: qdrant-client in c:\\onecx\\.venv\\lib\\site-packages (1.6.9)\n",
      "Requirement already satisfied: grpcio>=1.41.0 in c:\\onecx\\.venv\\lib\\site-packages (from qdrant-client) (1.59.3)\n",
      "Requirement already satisfied: grpcio-tools>=1.41.0 in c:\\onecx\\.venv\\lib\\site-packages (from qdrant-client) (1.59.3)\n",
      "Requirement already satisfied: httpx[http2]>=0.14.0 in c:\\onecx\\.venv\\lib\\site-packages (from qdrant-client) (0.25.1)\n",
      "Requirement already satisfied: numpy>=1.21 in c:\\onecx\\.venv\\lib\\site-packages (from qdrant-client) (1.26.2)\n",
      "Requirement already satisfied: portalocker<3.0.0,>=2.7.0 in c:\\onecx\\.venv\\lib\\site-packages (from qdrant-client) (2.8.2)\n",
      "Requirement already satisfied: pydantic>=1.10.8 in c:\\onecx\\.venv\\lib\\site-packages (from qdrant-client) (2.5.1)\n",
      "Requirement already satisfied: urllib3<2.0.0,>=1.26.14 in c:\\onecx\\.venv\\lib\\site-packages (from qdrant-client) (1.26.18)\n",
      "Requirement already satisfied: protobuf<5.0dev,>=4.21.6 in c:\\onecx\\.venv\\lib\\site-packages (from grpcio-tools>=1.41.0->qdrant-client) (4.25.1)\n",
      "Requirement already satisfied: setuptools in c:\\onecx\\.venv\\lib\\site-packages (from grpcio-tools>=1.41.0->qdrant-client) (65.5.0)\n",
      "Requirement already satisfied: anyio in c:\\onecx\\.venv\\lib\\site-packages (from httpx[http2]>=0.14.0->qdrant-client) (3.7.1)\n",
      "Requirement already satisfied: certifi in c:\\onecx\\.venv\\lib\\site-packages (from httpx[http2]>=0.14.0->qdrant-client) (2023.7.22)\n",
      "Requirement already satisfied: httpcore in c:\\onecx\\.venv\\lib\\site-packages (from httpx[http2]>=0.14.0->qdrant-client) (1.0.2)\n",
      "Requirement already satisfied: idna in c:\\onecx\\.venv\\lib\\site-packages (from httpx[http2]>=0.14.0->qdrant-client) (3.4)\n",
      "Requirement already satisfied: sniffio in c:\\onecx\\.venv\\lib\\site-packages (from httpx[http2]>=0.14.0->qdrant-client) (1.3.0)\n",
      "Requirement already satisfied: h2<5,>=3 in c:\\onecx\\.venv\\lib\\site-packages (from httpx[http2]>=0.14.0->qdrant-client) (4.1.0)\n",
      "Requirement already satisfied: pywin32>=226 in c:\\onecx\\.venv\\lib\\site-packages (from portalocker<3.0.0,>=2.7.0->qdrant-client) (306)\n",
      "Requirement already satisfied: annotated-types>=0.4.0 in c:\\onecx\\.venv\\lib\\site-packages (from pydantic>=1.10.8->qdrant-client) (0.6.0)\n",
      "Requirement already satisfied: pydantic-core==2.14.3 in c:\\onecx\\.venv\\lib\\site-packages (from pydantic>=1.10.8->qdrant-client) (2.14.3)\n",
      "Requirement already satisfied: typing-extensions>=4.6.1 in c:\\onecx\\.venv\\lib\\site-packages (from pydantic>=1.10.8->qdrant-client) (4.8.0)\n",
      "Requirement already satisfied: hyperframe<7,>=6.0 in c:\\onecx\\.venv\\lib\\site-packages (from h2<5,>=3->httpx[http2]>=0.14.0->qdrant-client) (6.0.1)\n",
      "Requirement already satisfied: hpack<5,>=4.0 in c:\\onecx\\.venv\\lib\\site-packages (from h2<5,>=3->httpx[http2]>=0.14.0->qdrant-client) (4.0.0)\n",
      "Requirement already satisfied: h11<0.15,>=0.13 in c:\\onecx\\.venv\\lib\\site-packages (from httpcore->httpx[http2]>=0.14.0->qdrant-client) (0.14.0)\n"
     ]
    },
    {
     "name": "stderr",
     "output_type": "stream",
     "text": [
      "\n",
      "[notice] A new release of pip is available: 23.1.2 -> 23.3.1\n",
      "[notice] To update, run: python.exe -m pip install --upgrade pip\n"
     ]
    },
    {
     "name": "stdout",
     "output_type": "stream",
     "text": [
      "Requirement already satisfied: langchain in c:\\onecx\\.venv\\lib\\site-packages (0.0.339)\n",
      "Requirement already satisfied: PyYAML>=5.3 in c:\\onecx\\.venv\\lib\\site-packages (from langchain) (6.0.1)\n",
      "Requirement already satisfied: SQLAlchemy<3,>=1.4 in c:\\onecx\\.venv\\lib\\site-packages (from langchain) (2.0.23)\n",
      "Requirement already satisfied: aiohttp<4.0.0,>=3.8.3 in c:\\onecx\\.venv\\lib\\site-packages (from langchain) (3.9.0)\n",
      "Requirement already satisfied: anyio<4.0 in c:\\onecx\\.venv\\lib\\site-packages (from langchain) (3.7.1)\n",
      "Requirement already satisfied: dataclasses-json<0.7,>=0.5.7 in c:\\onecx\\.venv\\lib\\site-packages (from langchain) (0.6.2)\n",
      "Requirement already satisfied: jsonpatch<2.0,>=1.33 in c:\\onecx\\.venv\\lib\\site-packages (from langchain) (1.33)\n",
      "Requirement already satisfied: langsmith<0.1.0,>=0.0.63 in c:\\onecx\\.venv\\lib\\site-packages (from langchain) (0.0.66)\n",
      "Requirement already satisfied: numpy<2,>=1 in c:\\onecx\\.venv\\lib\\site-packages (from langchain) (1.26.2)\n",
      "Requirement already satisfied: pydantic<3,>=1 in c:\\onecx\\.venv\\lib\\site-packages (from langchain) (2.5.1)\n",
      "Requirement already satisfied: requests<3,>=2 in c:\\onecx\\.venv\\lib\\site-packages (from langchain) (2.31.0)\n",
      "Requirement already satisfied: tenacity<9.0.0,>=8.1.0 in c:\\onecx\\.venv\\lib\\site-packages (from langchain) (8.2.3)\n",
      "Requirement already satisfied: attrs>=17.3.0 in c:\\onecx\\.venv\\lib\\site-packages (from aiohttp<4.0.0,>=3.8.3->langchain) (23.1.0)\n",
      "Requirement already satisfied: multidict<7.0,>=4.5 in c:\\onecx\\.venv\\lib\\site-packages (from aiohttp<4.0.0,>=3.8.3->langchain) (6.0.4)\n",
      "Requirement already satisfied: yarl<2.0,>=1.0 in c:\\onecx\\.venv\\lib\\site-packages (from aiohttp<4.0.0,>=3.8.3->langchain) (1.9.3)\n",
      "Requirement already satisfied: frozenlist>=1.1.1 in c:\\onecx\\.venv\\lib\\site-packages (from aiohttp<4.0.0,>=3.8.3->langchain) (1.4.0)\n",
      "Requirement already satisfied: aiosignal>=1.1.2 in c:\\onecx\\.venv\\lib\\site-packages (from aiohttp<4.0.0,>=3.8.3->langchain) (1.3.1)\n",
      "Requirement already satisfied: idna>=2.8 in c:\\onecx\\.venv\\lib\\site-packages (from anyio<4.0->langchain) (3.4)\n",
      "Requirement already satisfied: sniffio>=1.1 in c:\\onecx\\.venv\\lib\\site-packages (from anyio<4.0->langchain) (1.3.0)\n",
      "Requirement already satisfied: marshmallow<4.0.0,>=3.18.0 in c:\\onecx\\.venv\\lib\\site-packages (from dataclasses-json<0.7,>=0.5.7->langchain) (3.20.1)\n",
      "Requirement already satisfied: typing-inspect<1,>=0.4.0 in c:\\onecx\\.venv\\lib\\site-packages (from dataclasses-json<0.7,>=0.5.7->langchain) (0.9.0)\n",
      "Requirement already satisfied: jsonpointer>=1.9 in c:\\onecx\\.venv\\lib\\site-packages (from jsonpatch<2.0,>=1.33->langchain) (2.4)\n",
      "Requirement already satisfied: annotated-types>=0.4.0 in c:\\onecx\\.venv\\lib\\site-packages (from pydantic<3,>=1->langchain) (0.6.0)\n",
      "Requirement already satisfied: pydantic-core==2.14.3 in c:\\onecx\\.venv\\lib\\site-packages (from pydantic<3,>=1->langchain) (2.14.3)\n",
      "Requirement already satisfied: typing-extensions>=4.6.1 in c:\\onecx\\.venv\\lib\\site-packages (from pydantic<3,>=1->langchain) (4.8.0)\n",
      "Requirement already satisfied: charset-normalizer<4,>=2 in c:\\onecx\\.venv\\lib\\site-packages (from requests<3,>=2->langchain) (3.3.2)\n",
      "Requirement already satisfied: urllib3<3,>=1.21.1 in c:\\onecx\\.venv\\lib\\site-packages (from requests<3,>=2->langchain) (1.26.18)\n",
      "Requirement already satisfied: certifi>=2017.4.17 in c:\\onecx\\.venv\\lib\\site-packages (from requests<3,>=2->langchain) (2023.7.22)\n",
      "Requirement already satisfied: greenlet!=0.4.17 in c:\\onecx\\.venv\\lib\\site-packages (from SQLAlchemy<3,>=1.4->langchain) (3.0.1)\n",
      "Requirement already satisfied: packaging>=17.0 in c:\\onecx\\.venv\\lib\\site-packages (from marshmallow<4.0.0,>=3.18.0->dataclasses-json<0.7,>=0.5.7->langchain) (23.2)\n",
      "Requirement already satisfied: mypy-extensions>=0.3.0 in c:\\onecx\\.venv\\lib\\site-packages (from typing-inspect<1,>=0.4.0->dataclasses-json<0.7,>=0.5.7->langchain) (1.0.0)\n"
     ]
    },
    {
     "name": "stderr",
     "output_type": "stream",
     "text": [
      "\n",
      "[notice] A new release of pip is available: 23.1.2 -> 23.3.1\n",
      "[notice] To update, run: python.exe -m pip install --upgrade pip\n"
     ]
    },
    {
     "name": "stdout",
     "output_type": "stream",
     "text": [
      "Requirement already satisfied: pypdf in c:\\onecx\\.venv\\lib\\site-packages (3.17.1)\n"
     ]
    },
    {
     "name": "stderr",
     "output_type": "stream",
     "text": [
      "\n",
      "[notice] A new release of pip is available: 23.1.2 -> 23.3.1\n",
      "[notice] To update, run: python.exe -m pip install --upgrade pip\n"
     ]
    },
    {
     "name": "stdout",
     "output_type": "stream",
     "text": [
      "Requirement already satisfied: protobuf in c:\\onecx\\.venv\\lib\\site-packages (4.25.1)\n"
     ]
    },
    {
     "name": "stderr",
     "output_type": "stream",
     "text": [
      "\n",
      "[notice] A new release of pip is available: 23.1.2 -> 23.3.1\n",
      "[notice] To update, run: python.exe -m pip install --upgrade pip\n"
     ]
    },
    {
     "name": "stdout",
     "output_type": "stream",
     "text": [
      "Requirement already satisfied: python-dotenv in c:\\onecx\\.venv\\lib\\site-packages (1.0.0)\n"
     ]
    },
    {
     "name": "stderr",
     "output_type": "stream",
     "text": [
      "\n",
      "[notice] A new release of pip is available: 23.1.2 -> 23.3.1\n",
      "[notice] To update, run: python.exe -m pip install --upgrade pip\n"
     ]
    }
   ],
   "source": [
    "!pip install sentence-transformers\n",
    "!pip install qdrant-client\n",
    "!pip install langchain\n",
    "!pip install pypdf\n",
    "!pip install protobuf\n",
    "!pip install python-dotenv"
   ]
  },
  {
   "cell_type": "markdown",
   "metadata": {},
   "source": [
    "# Set Globals\n",
    "Set the global variables like embedding model here!"
   ]
  },
  {
   "cell_type": "code",
   "execution_count": 2,
   "metadata": {},
   "outputs": [
    {
     "ename": "AttributeError",
     "evalue": "module 'dotenv' has no attribute 'load'",
     "output_type": "error",
     "traceback": [
      "\u001b[1;31m---------------------------------------------------------------------------\u001b[0m",
      "\u001b[1;31mAttributeError\u001b[0m                            Traceback (most recent call last)",
      "\u001b[1;32mc:\\onecx\\Notebooks\\reranking.ipynb Cell 4\u001b[0m line \u001b[0;36m4\n\u001b[0;32m      <a href='vscode-notebook-cell:/c%3A/onecx/Notebooks/reranking.ipynb#W3sZmlsZQ%3D%3D?line=0'>1</a>\u001b[0m \u001b[39mimport\u001b[39;00m \u001b[39mdotenv\u001b[39;00m\n\u001b[0;32m      <a href='vscode-notebook-cell:/c%3A/onecx/Notebooks/reranking.ipynb#W3sZmlsZQ%3D%3D?line=1'>2</a>\u001b[0m \u001b[39mimport\u001b[39;00m \u001b[39mos\u001b[39;00m\n\u001b[1;32m----> <a href='vscode-notebook-cell:/c%3A/onecx/Notebooks/reranking.ipynb#W3sZmlsZQ%3D%3D?line=3'>4</a>\u001b[0m dotenv\u001b[39m.\u001b[39;49mload()\n\u001b[0;32m      <a href='vscode-notebook-cell:/c%3A/onecx/Notebooks/reranking.ipynb#W3sZmlsZQ%3D%3D?line=5'>6</a>\u001b[0m EMBEDDING_MODEL \u001b[39m=\u001b[39m \u001b[39m\"\u001b[39m\u001b[39mintfloat/multilingual-e5-small\u001b[39m\u001b[39m\"\u001b[39m\n\u001b[0;32m      <a href='vscode-notebook-cell:/c%3A/onecx/Notebooks/reranking.ipynb#W3sZmlsZQ%3D%3D?line=6'>7</a>\u001b[0m RERANK_MODEL \u001b[39m=\u001b[39m \u001b[39m\"\u001b[39m\u001b[39msvalabs/cross-electra-ms-marco-german-uncased\u001b[39m\u001b[39m\"\u001b[39m\u001b[39m#\"cross-encoder/msmarco-MiniLM-L6-en-de-v1\" #\"intfloat/multilingual-e5-small\"\u001b[39;00m\n",
      "\u001b[1;31mAttributeError\u001b[0m: module 'dotenv' has no attribute 'load'"
     ]
    }
   ],
   "source": [
    "from dotenv import load_dotenv\n",
    "import os\n",
    "\n",
    "load_dotenv()\n",
    "\n",
    "EMBEDDING_MODEL = \"intfloat/multilingual-e5-small\"\n",
    "RERANK_MODEL = \"svalabs/cross-electra-ms-marco-german-uncased\"#\"cross-encoder/msmarco-MiniLM-L6-en-de-v1\" #\"intfloat/multilingual-e5-small\"\n",
    "QUERY = \"Wer ist Alaeddin?\"\n",
    "FETCH_K = 100\n",
    "RERANK_K = 5\n",
    "COHERE_API_KEY = os.getenv(\"COHERE_API_KEY\")"
   ]
  },
  {
   "cell_type": "markdown",
   "metadata": {},
   "source": [
    "# Initialize Vectorstore\n",
    "Here we initialize the vectorstore with a example german document \"Alaeddin\""
   ]
  },
  {
   "cell_type": "code",
   "execution_count": null,
   "metadata": {},
   "outputs": [],
   "source": [
    "from langchain.embeddings.sentence_transformer import SentenceTransformerEmbeddings\n",
    "from langchain.vectorstores.qdrant import Qdrant\n",
    "from langchain.document_loaders.pdf import PyPDFDirectoryLoader\n",
    "from langchain.text_splitter import CharacterTextSplitter"
   ]
  },
  {
   "cell_type": "code",
   "execution_count": null,
   "metadata": {},
   "outputs": [],
   "source": [
    "doc_loader = PyPDFDirectoryLoader(\"./data/\")\n",
    "documents = doc_loader.load_and_split(text_splitter=CharacterTextSplitter(chunk_size=100, chunk_overlap=50))\n",
    "\n",
    "embedding_model = SentenceTransformerEmbeddings(model_name=EMBEDDING_MODEL)\n",
    "vector_store = Qdrant.from_documents(documents=documents, embedding=embedding_model, location=\":memory:\", collection_name=\"rerank\")"
   ]
  },
  {
   "cell_type": "code",
   "execution_count": null,
   "metadata": {},
   "outputs": [
    {
     "data": {
      "text/plain": [
       "[Document(page_content='Alaeddin\\tund\\tdie\\tWunderlampe\\nM\\nustafa\\twar\\tder\\tName\\teines\\tSchneiders,\\tder\\tin\\teiner\\tsehr\\treichen\\tund\\tgroßen\\nHauptstadt\\tChinas\\tlebte.\\tDieser\\tMustafa\\twar\\tsehr\\tarm,\\tund\\tseine\\tArbeit\\twarf\\nkaum\\tso\\tviel\\tab,\\tdaß\\ter,\\tseine\\tFrau\\tund\\tein\\tSohn\\tdavon\\tleben\\tkonnten.\\nDie\\tErziehung\\tdieses\\tSohnes,\\twelcher\\tAlaeddin\\thieß,\\twar\\tsehr\\tvernachlässigt\\nworden,\\tso\\tdaß\\ter\\tallerhand\\tlasterhafte\\tNeigungen\\tangenommen\\thatte.\\tEr\\twar\\nboshaft,\\thalsstarrig\\tund\\tungehorsam\\tgegen\\tVater\\tund\\tMutter.\\tKaum\\twar\\ter\\tein\\nwenig\\therangewachsen,\\tso\\tkonnten\\tihn\\tseine\\tEltern\\tnicht\\tmehr\\tim\\tHause\\nzurückhalten.\\tEr\\tging\\tschon\\tam\\tfrühen\\tMorgen\\taus\\tund\\ttat\\tden\\tganzen\\tTag\\nnichts,\\tals\\tauf\\tden\\tStraßen\\tund\\töffentlichen\\tPlätzen\\tmit\\tkleinen\\tTagdieben\\nspielen.\\nAls\\ter\\tein\\tHandwerk\\terlernen\\tsollte,\\tnahm\\tihn\\tsein\\tVater\\tin\\tseine\\tBude\\tund\\nfing\\tan,\\tihn\\tin\\tder\\tHandhabung\\tder\\tNadel\\tzu\\tunterrichten.\\tAllein\\tweder\\tgute\\nWorte\\tnoch\\tDrohungen\\tvermochten\\tden\\tflatterhaften\\tSinn\\tdes\\tSohnes\\tzu\\tfesseln.\\nKaum\\thatte\\tMustafa\\tihm\\tden\\tRücken\\tgekehrt,\\tso\\tentwischte\\tAlaeddin\\tund\\tließ\\nsich\\tden\\tganzen\\tTag\\tnicht\\twieder\\tsehen.\\tDer\\tVater\\tzüchtigte\\tihn,\\taber\\tAlaeddin\\nwar\\tunverbesserlich,\\tund\\tMustafa\\tmußte\\tihn\\tmit\\tgroßem\\tBedauern\\tzuletzt\\nseinem\\tliederlichen\\tLeben\\tüberlassen.\\tDies\\tverursachte\\tihm\\tgroßes\\tHerzeleid,\\nund\\tder\\tKummer\\tzog\\tihm\\teine\\thartnäckige\\tKrankheit\\tzu,\\tan\\tder\\ter\\tnach\\teinigen\\nMonaten\\tstarb.\\nAlaeddins\\tMutter\\tmachte\\tdarauf\\talles\\tzu\\tGeld,\\tum\\tdavon,\\tund\\tvon\\tdem\\nWenigen,\\twas\\tsie\\tmit\\tBaumwollespinnen\\terwarb,\\tmit\\tihrem\\tSohne\\tleben\\tzu\\nkönnen.\\nAlaeddin,\\tder\\tjetzt\\tnicht\\tmehr\\tdurch\\tdie\\tFurcht\\tvor\\tseinem\\tVater\\tin\\tSchranken\\ngehalten\\twurde,\\tbekümmerte\\tsich\\tnicht\\tum\\tseine\\tMutter.\\tEr\\tsuchte\\tnoch\\tmehr\\nals\\tzuvor\\tjunge\\tLeute\\tvon\\tseinem\\tAlter\\tauf\\tund\\tspielte\\tmit\\tihnen\\tunaufhörlich\\nnoch\\tleidenschaftlicher\\n\\tals\\tbisher.\\tDiesen\\tLebenswandel\\tsetzte\\ter\\tbis\\tin\\tsein', metadata={'source': 'data\\\\Alaeddin-und-die-Wunderlampe.pdf', 'page': 3}),\n",
       " Document(page_content='Alaeddin\\nund\\tdie\\tWunderlampe\\nAus\\nTausend\\tund\\teine\\tNacht\\nmit\\t11\\tVollbildern\\nu.\\tder\\tBuchausstattung\\nvon\\tF.\\tStaeger.\\nHugo\\tSchmidt\\tVerlag\\nMünchen\\nTextrevision\\tbesorgte\\tKurt\\tMoreck\\nCopyright\\t1919\\tby\\tHugo\\tSchmidt\\tVerlag,\\tMünchen\\nAlle\\tRechte,\\tinsbesondere\\tdas\\tan\\tden\\tAbbildungen,\\tvorbehalten\\nHUGO\\tSCHMIDT\\tVERLAG', metadata={'source': 'data\\\\Alaeddin-und-die-Wunderlampe.pdf', 'page': 2}),\n",
       " Document(page_content='allgemein\\tbeliebt\\twar,\\tso\\tergriffen\\tdie\\teinen\\tSäbel\\tund\\tandere\\tWaffen,\\tund\\tdie,\\nwelche\\tkeine\\thatten,\\tbewaffneten\\tsich\\tmit\\tSteinen\\tund\\tfolgten\\tden\\tReitern\\tnach.\\nEinige\\tvon\\tden\\tHintersten\\tschwenkten\\tum\\tund\\tmachten\\tMiene,\\tsie\\nauseinanderzusprengen;\\tallein\\tdie\\tVolksmasse\\twurde\\tso\\tgroß,\\tdaß\\tdie\\tReiter\\tsich\\nglücklich\\tschätzten,\\twenn\\tsie\\tnur\\tden\\tPalast\\tdes\\tSultans\\terreichten,\\tohne\\tdaß\\nAlaeddin\\tihnen\\tentrissen\\twurde.\\tSo\\tgelangten\\tsie\\tendlich\\tan\\tden\\tPlatz\\tvor\\tdem\\nPalaste,\\two\\tsie\\tsich\\talle\\tin\\teiner\\tLinie\\taufstellten\\tund\\tgegen\\tdie\\tbewaffnete\\nVolksmasse\\tFront\\tmachten,\\tbis\\tihr\\tBefehlshaber\\tund\\tder\\tReiter,\\twelcher\\nAlaeddin\\tführte,\\tin\\tden\\tPalast\\teingetreten\\twaren\\tund\\tdie\\tPförtner\\tdas\\tTor\\thinter\\nihm\\tgeschlossen\\thatten.\\nAlaeddin\\twurde\\tsofort\\tvor\\tden\\tSultan\\tgeführt,\\tder\\tihn\\tmit\\tdem\\tGroßvezier\\tauf\\neinem\\tBalkon\\terwartete.\\tSobald\\ter\\tihn\\tsah,\\tbefahl\\ter\\tdem\\tScharfrichter\\tihm\\tden\\nKopf\\tabzuhauen,\\tohne\\tdaß\\ter\\tihn\\tanhören\\toder\\tirgend\\teinen\\tAufschluß\\tvon\\tihm\\nhaben\\twollte.\\nDer\\tScharfrichter\\tbemächtigte\\tsich\\tAlaeddins,\\tnahm\\tihm\\tdie\\tKette\\tab,\\tbreitete\\nsofort\\tein\\tLeder,\\tdas\\tmit\\tdem\\tBlute\\tvon\\tunzähligen\\tVerbrechern\\tbefleckt\\twar,\\nauf\\tden\\tBoden,\\thieß\\tihn\\tniederknieen\\tund\\tverband\\tihm\\tdie\\tAugen.\\tHierauf\\tzog\\ner\\tsein\\tSchwert,\\tholte\\tweit\\taus,\\tließ\\tes\\tdreimal\\tin\\tder\\tLuft\\tblitzen\\tund\\tschickte\\nsich\\tan,\\tden\\tTodesstreich\\tzu\\tführen,\\tindem\\ter\\tnur\\tnoch\\tauf\\tein\\tZeichen\\tvom\\nSultan\\twartete,\\tum\\tAlaeddin\\tden\\tKopf\\tabzuschlagen.\\nIn\\tdiesem\\tAugenblicke\\tbemerkte\\tder\\tGroßvezier,\\tdaß\\tdas\\tVolk\\tdie\\tReiter\\nüberwältigt\\thatte\\tund\\tauf\\tden\\tSchloßplatz\\tgedrungen\\twar,\\tja\\tsogar,\\tdaß\\teinige\\ndie\\tMauern\\tdes\\tPalastes\\tan\\tmehreren\\tStellen\\tmit\\tLeitern\\terstiegen\\tund\\tbereits\\nanfingen,\\tsie\\tniederzureißen,\\tum\\teine\\tÖffnung\\tzu\\tmachen.\\tEr\\tsagte\\tdaher\\tzum\\nSultan,\\tehe\\ter\\tdas\\tZeichen\\tgab:\\t»Herr,\\tich\\tbitte\\tdich,\\tdaß\\tdu\\tden\\n\\tSchritt,\\tden\\tdu\\nzu\\ttun\\tim\\tBegriff\\tbist,\\treiflich\\tüberlegen\\tmögest.\\tDu\\tläufst\\tGefahr,\\tdeinen\\tPalast\\nerstürmt\\tzu\\tsehen,\\tund\\twenn\\tdies\\tUnglück\\tgeschehe,\\tso\\tkönnte\\tes\\nunheilbringende\\tFolgen\\thaben.«\\t–\\nAls\\tder\\tSultan\\tdie\\theftige\\tAufregung\\tunter\\tdem\\tVolke\\tsah,\\terschrak\\ter\\ndermaßen,\\tdaß\\ter\\taugenblicklich\\tdem\\tScharfrichter\\tden\\tBefehl\\tgab,\\tsein\\tSchwert\\nwieder\\tin\\tdie\\tScheide\\tzu\\tstecken,\\tdie\\tBinde\\tvon\\tAlaeddins\\tAugen\\twegzunehmen\\nund\\tihn\\tfreizulassen.\\tZugleich\\tbefahl\\ter\\tseinen\\tTrabanten\\tauszurufen,\\tdaß\\ter\\nAlaeddin\\tGnade\\tschenke,\\tund\\tjedermann\\tsich\\tnun\\tentfernen\\tmöge.\\nAls\\tnun\\tdas\\tVolk\\tsah,\\tdaß\\tder\\tSultan\\tAlaeddin\\tGerechtigkeit\\twiderfahren\\tließ\\nund\\tihn\\tbegnadigte,\\tentwaffnete\\tsich\\tsein\\tZorn,\\tder\\tAufruhr\\thörte\\tauf\\tund\\tes', metadata={'source': 'data\\\\Alaeddin-und-die-Wunderlampe.pdf', 'page': 68}),\n",
       " Document(page_content='hervor,\\tdie\\ter\\tals\\tMundvorrat\\tmitgenommen\\thatte,\\tund\\tbreitete\\tsie\\tauf\\tdem\\nRande\\tdes\\tBeckens\\taus.\\tEr\\tteilte\\teinen\\tKuchen\\tmit\\tAlaeddin\\tund\\tließ\\tihn\\nFrüchte\\twählen.\\tWährend\\tdieses\\tkleinen\\tMahles\\termahnte\\ter\\tseinen\\tangeblichen\\nNeffen,\\tsich\\tvon\\tdem\\tUmgange\\tmit\\tKindern\\tloszumachen,\\tdagegen\\tsich\\tan\\nkluge\\tund\\tverständige\\tMänner\\tanzuschließen,\\tdieselben\\tanzuhören\\tund\\tvon\\nihren\\tUnterhaltungen\\tNutzen\\tzu\\tziehen.\\t»Bald,«\\tsagte\\ter,\\t»wirst\\tdu\\tein\\tMann\\nsein,\\twie\\tsie,\\tund\\tdu\\tkannst\\tdich\\tnicht\\tfrüh\\tgenug\\tdaran\\tgewöhnen,\\tnach\\tihrem\\nBeispiele\\tverständige\\tReden\\tzu\\tführen.«\\tAls\\tsie\\tdie\\tkleine\\tMahlzeit\\tvollendet\\nhatten,\\tsetzten\\tsie\\tihren\\tSpaziergang\\tdurch\\tdie\\tGärten\\tfort,\\tdie\\tbloß\\tdurch\\nschmale\\tGräben\\tgetrennt\\twaren.\\tUnvermerkt\\tführte\\tder\\tafrikanische\\tZauberer\\nAlaeddin\\tziemlich\\tweit\\tüber\\tdie\\tGärten\\thinaus\\tund\\tdurchwandelte\\tmit\\tihm\\tdie\\nEbene,\\tdie\\tihn\\tallmählich\\tin\\tdie\\tNähe\\tder\\tBerge\\tleitete.\\nAlaeddin,\\tder\\tin\\tseinem\\tLeben\\tnie\\teinen\\tso\\tweiten\\tWeg\\tgemacht\\thatte,\\tfühlte\\nsich\\tdurch\\tdiesen\\tMarsch\\tsehr\\termüdet\\tund\\tsagte:\\t»Wohin\\tgehen\\twir\\tdenn,\\nlieber\\tOheim?\\tWir\\thaben\\tdie\\tGärten\\tschon\\tweit\\thinter\\tuns\\tund\\tich\\tsehe\\tnichts\\nmehr\\tals\\tBerge.\\tWenn\\twir\\tnoch\\tlänger\\tso\\tfortgehen,\\tso\\tweiß\\tich\\tnicht,\\tob\\tich\\nnoch\\tKräfte\\tgenug\\thaben\\twerde,\\tum\\tin\\tdie\\tStadt\\tzurückzukehren.«\\t–\\t»Nur\\tden\\nMut\\tnicht\\tverloren,«\\tantwortete\\tder\\tfalsche\\tOheim;\\t»ich\\twill\\tdir\\tnoch\\teinen\\nandern\\tGarten\\tzeigen,\\tder\\talle,\\tdie\\tdu\\tbis\\tjetzt\\tgesehen\\thast,\\tweit\\tübertrifft;\\ter\\tist\\nnur\\tein\\tpaar\\tSchritte\\tvon\\tda,\\tund\\twenn\\twir\\teinmal\\tdort\\tsind,\\tso\\twirst\\tdu\\tselbst\\nsagen,\\tdaß\\tes\\tdir\\tsehr\\tleid\\tgewesen\\twäre,\\twenn\\tdu\\tihn\\tnicht\\tgesehen\\thättest.«\\nAlaeddin\\tließ\\tsich\\tüberreden,\\tund\\tder\\tZauberer\\tführte\\tihn\\tnoch\\tsehr\\tweit,\\tindem\\ner\\tihn\\tmit\\tverschiedenen\\tanmutigen\\tGeschichten\\tunterhielt,\\tum\\tihm\\tden\\tWeg\\nweniger\\tlangweilig\\tund\\tdie\\tErmüdung\\terträglicher\\tzu\\tmachen.\\nEndlich\\tgelangten\\tsie\\tzwischen\\tzwei\\tBerge\\tvon\\tmittelmäßiger\\tHöhe,\\tdie\\tsich\\nziemlich\\tgleich\\tund\\tnur\\tdurch\\tein\\tschmales\\tTal\\tgetrennt\\twaren.\\tDies\\twar\\tdie\\nmerkwürdige\\tStelle,\\twohin\\tder\\tafrikanische\\tZauberer\\tAlaeddin\\thatte\\tbringen\\nwollen,\\tum\\teinen\\n\\tgroßen\\tPlan\\tmit\\tihm\\tauszuführen,\\tweshalb\\ter\\tvon\\tdem\\näußersten\\tEnde\\tAfrikas\\tbis\\tnach\\tChina\\tgereist\\twar.\\t»Wir\\tsind\\tjetzt\\tan\\tOrt\\tund\\nStelle,«\\tsagte\\ter\\tzu\\tAlaeddin;\\t»ich\\twerde\\tdir\\thier\\taußerordentliche\\tDinge\\tzeigen,\\ndie\\tallen\\tübrigen\\tSterblichen\\tunbekannt\\tsind.\\tWährend\\tich\\tjetzt\\tmit\\tdem\\tStahl\\nFeuer\\tschlage,\\thäufe\\tdu\\thier\\ttrockenes\\tReisig\\tzusammen,\\tdamit\\twir\\tein\\tFeuer\\nanmachen.«\\nAls\\tdas\\tReisig\\taufloderte,\\twarf\\tder\\tafrikanische\\tZauberer\\tRäucherwerk\\nhinein.\\tDicker\\tRauch\\tstieg\\tempor,\\tden\\ter\\tbald\\tauf\\tdiese,\\tbald\\tauf\\tjene\\tSeite\\nwendete,\\tindem\\ter\\tallerlei\\tZauberworte\\tsprach,\\tvon\\tdenen\\tAlaeddin\\tnichts\\nverstand.', metadata={'source': 'data\\\\Alaeddin-und-die-Wunderlampe.pdf', 'page': 10})]"
      ]
     },
     "execution_count": 17,
     "metadata": {},
     "output_type": "execute_result"
    }
   ],
   "source": [
    "vector_store.max_marginal_relevance_search(\"Wer ist Alaeddin?\", k=4, fetch_k=20)"
   ]
  },
  {
   "cell_type": "code",
   "execution_count": null,
   "metadata": {},
   "outputs": [
    {
     "data": {
      "text/plain": [
       "[Document(page_content='Alaeddin\\tund\\tdie\\tWunderlampe\\nM\\nustafa\\twar\\tder\\tName\\teines\\tSchneiders,\\tder\\tin\\teiner\\tsehr\\treichen\\tund\\tgroßen\\nHauptstadt\\tChinas\\tlebte.\\tDieser\\tMustafa\\twar\\tsehr\\tarm,\\tund\\tseine\\tArbeit\\twarf\\nkaum\\tso\\tviel\\tab,\\tdaß\\ter,\\tseine\\tFrau\\tund\\tein\\tSohn\\tdavon\\tleben\\tkonnten.\\nDie\\tErziehung\\tdieses\\tSohnes,\\twelcher\\tAlaeddin\\thieß,\\twar\\tsehr\\tvernachlässigt\\nworden,\\tso\\tdaß\\ter\\tallerhand\\tlasterhafte\\tNeigungen\\tangenommen\\thatte.\\tEr\\twar\\nboshaft,\\thalsstarrig\\tund\\tungehorsam\\tgegen\\tVater\\tund\\tMutter.\\tKaum\\twar\\ter\\tein\\nwenig\\therangewachsen,\\tso\\tkonnten\\tihn\\tseine\\tEltern\\tnicht\\tmehr\\tim\\tHause\\nzurückhalten.\\tEr\\tging\\tschon\\tam\\tfrühen\\tMorgen\\taus\\tund\\ttat\\tden\\tganzen\\tTag\\nnichts,\\tals\\tauf\\tden\\tStraßen\\tund\\töffentlichen\\tPlätzen\\tmit\\tkleinen\\tTagdieben\\nspielen.\\nAls\\ter\\tein\\tHandwerk\\terlernen\\tsollte,\\tnahm\\tihn\\tsein\\tVater\\tin\\tseine\\tBude\\tund\\nfing\\tan,\\tihn\\tin\\tder\\tHandhabung\\tder\\tNadel\\tzu\\tunterrichten.\\tAllein\\tweder\\tgute\\nWorte\\tnoch\\tDrohungen\\tvermochten\\tden\\tflatterhaften\\tSinn\\tdes\\tSohnes\\tzu\\tfesseln.\\nKaum\\thatte\\tMustafa\\tihm\\tden\\tRücken\\tgekehrt,\\tso\\tentwischte\\tAlaeddin\\tund\\tließ\\nsich\\tden\\tganzen\\tTag\\tnicht\\twieder\\tsehen.\\tDer\\tVater\\tzüchtigte\\tihn,\\taber\\tAlaeddin\\nwar\\tunverbesserlich,\\tund\\tMustafa\\tmußte\\tihn\\tmit\\tgroßem\\tBedauern\\tzuletzt\\nseinem\\tliederlichen\\tLeben\\tüberlassen.\\tDies\\tverursachte\\tihm\\tgroßes\\tHerzeleid,\\nund\\tder\\tKummer\\tzog\\tihm\\teine\\thartnäckige\\tKrankheit\\tzu,\\tan\\tder\\ter\\tnach\\teinigen\\nMonaten\\tstarb.\\nAlaeddins\\tMutter\\tmachte\\tdarauf\\talles\\tzu\\tGeld,\\tum\\tdavon,\\tund\\tvon\\tdem\\nWenigen,\\twas\\tsie\\tmit\\tBaumwollespinnen\\terwarb,\\tmit\\tihrem\\tSohne\\tleben\\tzu\\nkönnen.\\nAlaeddin,\\tder\\tjetzt\\tnicht\\tmehr\\tdurch\\tdie\\tFurcht\\tvor\\tseinem\\tVater\\tin\\tSchranken\\ngehalten\\twurde,\\tbekümmerte\\tsich\\tnicht\\tum\\tseine\\tMutter.\\tEr\\tsuchte\\tnoch\\tmehr\\nals\\tzuvor\\tjunge\\tLeute\\tvon\\tseinem\\tAlter\\tauf\\tund\\tspielte\\tmit\\tihnen\\tunaufhörlich\\nnoch\\tleidenschaftlicher\\n\\tals\\tbisher.\\tDiesen\\tLebenswandel\\tsetzte\\ter\\tbis\\tin\\tsein', metadata={'source': 'data\\\\Alaeddin-und-die-Wunderlampe.pdf', 'page': 3}),\n",
       " Document(page_content='allgemein\\tbeliebt\\twar,\\tso\\tergriffen\\tdie\\teinen\\tSäbel\\tund\\tandere\\tWaffen,\\tund\\tdie,\\nwelche\\tkeine\\thatten,\\tbewaffneten\\tsich\\tmit\\tSteinen\\tund\\tfolgten\\tden\\tReitern\\tnach.\\nEinige\\tvon\\tden\\tHintersten\\tschwenkten\\tum\\tund\\tmachten\\tMiene,\\tsie\\nauseinanderzusprengen;\\tallein\\tdie\\tVolksmasse\\twurde\\tso\\tgroß,\\tdaß\\tdie\\tReiter\\tsich\\nglücklich\\tschätzten,\\twenn\\tsie\\tnur\\tden\\tPalast\\tdes\\tSultans\\terreichten,\\tohne\\tdaß\\nAlaeddin\\tihnen\\tentrissen\\twurde.\\tSo\\tgelangten\\tsie\\tendlich\\tan\\tden\\tPlatz\\tvor\\tdem\\nPalaste,\\two\\tsie\\tsich\\talle\\tin\\teiner\\tLinie\\taufstellten\\tund\\tgegen\\tdie\\tbewaffnete\\nVolksmasse\\tFront\\tmachten,\\tbis\\tihr\\tBefehlshaber\\tund\\tder\\tReiter,\\twelcher\\nAlaeddin\\tführte,\\tin\\tden\\tPalast\\teingetreten\\twaren\\tund\\tdie\\tPförtner\\tdas\\tTor\\thinter\\nihm\\tgeschlossen\\thatten.\\nAlaeddin\\twurde\\tsofort\\tvor\\tden\\tSultan\\tgeführt,\\tder\\tihn\\tmit\\tdem\\tGroßvezier\\tauf\\neinem\\tBalkon\\terwartete.\\tSobald\\ter\\tihn\\tsah,\\tbefahl\\ter\\tdem\\tScharfrichter\\tihm\\tden\\nKopf\\tabzuhauen,\\tohne\\tdaß\\ter\\tihn\\tanhören\\toder\\tirgend\\teinen\\tAufschluß\\tvon\\tihm\\nhaben\\twollte.\\nDer\\tScharfrichter\\tbemächtigte\\tsich\\tAlaeddins,\\tnahm\\tihm\\tdie\\tKette\\tab,\\tbreitete\\nsofort\\tein\\tLeder,\\tdas\\tmit\\tdem\\tBlute\\tvon\\tunzähligen\\tVerbrechern\\tbefleckt\\twar,\\nauf\\tden\\tBoden,\\thieß\\tihn\\tniederknieen\\tund\\tverband\\tihm\\tdie\\tAugen.\\tHierauf\\tzog\\ner\\tsein\\tSchwert,\\tholte\\tweit\\taus,\\tließ\\tes\\tdreimal\\tin\\tder\\tLuft\\tblitzen\\tund\\tschickte\\nsich\\tan,\\tden\\tTodesstreich\\tzu\\tführen,\\tindem\\ter\\tnur\\tnoch\\tauf\\tein\\tZeichen\\tvom\\nSultan\\twartete,\\tum\\tAlaeddin\\tden\\tKopf\\tabzuschlagen.\\nIn\\tdiesem\\tAugenblicke\\tbemerkte\\tder\\tGroßvezier,\\tdaß\\tdas\\tVolk\\tdie\\tReiter\\nüberwältigt\\thatte\\tund\\tauf\\tden\\tSchloßplatz\\tgedrungen\\twar,\\tja\\tsogar,\\tdaß\\teinige\\ndie\\tMauern\\tdes\\tPalastes\\tan\\tmehreren\\tStellen\\tmit\\tLeitern\\terstiegen\\tund\\tbereits\\nanfingen,\\tsie\\tniederzureißen,\\tum\\teine\\tÖffnung\\tzu\\tmachen.\\tEr\\tsagte\\tdaher\\tzum\\nSultan,\\tehe\\ter\\tdas\\tZeichen\\tgab:\\t»Herr,\\tich\\tbitte\\tdich,\\tdaß\\tdu\\tden\\n\\tSchritt,\\tden\\tdu\\nzu\\ttun\\tim\\tBegriff\\tbist,\\treiflich\\tüberlegen\\tmögest.\\tDu\\tläufst\\tGefahr,\\tdeinen\\tPalast\\nerstürmt\\tzu\\tsehen,\\tund\\twenn\\tdies\\tUnglück\\tgeschehe,\\tso\\tkönnte\\tes\\nunheilbringende\\tFolgen\\thaben.«\\t–\\nAls\\tder\\tSultan\\tdie\\theftige\\tAufregung\\tunter\\tdem\\tVolke\\tsah,\\terschrak\\ter\\ndermaßen,\\tdaß\\ter\\taugenblicklich\\tdem\\tScharfrichter\\tden\\tBefehl\\tgab,\\tsein\\tSchwert\\nwieder\\tin\\tdie\\tScheide\\tzu\\tstecken,\\tdie\\tBinde\\tvon\\tAlaeddins\\tAugen\\twegzunehmen\\nund\\tihn\\tfreizulassen.\\tZugleich\\tbefahl\\ter\\tseinen\\tTrabanten\\tauszurufen,\\tdaß\\ter\\nAlaeddin\\tGnade\\tschenke,\\tund\\tjedermann\\tsich\\tnun\\tentfernen\\tmöge.\\nAls\\tnun\\tdas\\tVolk\\tsah,\\tdaß\\tder\\tSultan\\tAlaeddin\\tGerechtigkeit\\twiderfahren\\tließ\\nund\\tihn\\tbegnadigte,\\tentwaffnete\\tsich\\tsein\\tZorn,\\tder\\tAufruhr\\thörte\\tauf\\tund\\tes', metadata={'source': 'data\\\\Alaeddin-und-die-Wunderlampe.pdf', 'page': 68}),\n",
       " Document(page_content='allein\\ter\\tkonnte\\tseinen\\tZweck\\tnicht\\terreichen,\\tund\\tseit\\ter\\ttot\\tist,\\tstreicht\\ter,\\ttrotz\\nmeinen\\ttäglichen\\tErmahnungen,\\tdie\\tganze\\tZeit\\tauf\\tden\\tStraßen\\therum\\tund\\tspielt\\nmit\\tKindern,\\twie\\tdu\\tgesehen\\thast,\\tohne\\tzu\\tbedenken,\\tdaß\\ter\\tkein\\tKind\\tmehr\\tist;\\nwenn\\tdu\\tihn\\tdeshalb\\tnicht\\tbeschämst\\tund\\ter\\tsich\\tdiese\\tErmahnung\\tnicht\\nzunutzen\\tmacht,\\tso\\tgebe\\tich\\talle\\tHoffnung\\tauf,\\tdaß\\tjemals\\tetwas\\taus\\tihm\\twird.\\nEr\\tweiß,\\tdaß\\tsein\\tVater\\tkein\\tVermögen\\thinterlassen\\that,\\tund\\tsieht\\tselbst,\\tdaß\\tich\\nmit\\tmeinem\\tBaumwollespinnen\\tden\\tganzen\\tTag\\tüber\\tkaum\\tdas\\tBrot\\tfür\\tuns\\nbeide\\tverdienen\\tkann.\\tIch\\tbin\\tentschlossen,\\tihm\\tnächster\\tTage\\teinmal\\tdie\\tTüre\\nzu\\tverschließen\\tund\\tihn\\tfortzuschicken,\\tdaß\\ter\\tsich\\tseine\\tUnterkunft\\tanderswo\\nsuchen\\tkann.«\\nAls\\tAlaeddins\\tMutter\\tunter\\tvielen\\tTränen\\tso\\tgesprochen\\thatte,\\tsagte\\tder\\nafrikanische\\tZauberer\\tzu\\tdem\\tJungen:\\t»Das\\tist\\tnicht\\tgut,\\tmein\\tNeffe,\\tdu\\tmußt\\ndarauf\\tdenken,\\tdir\\tselbst\\tfortzuhelfen\\tund\\teinen\\tLebensunterhalt\\tzu\\tverschaffen.\\nEs\\tgibt\\tja\\tso\\tviele\\tGewerbe\\tin\\tder\\tWelt;\\tbesinne\\tdich\\teinmal,\\tob\\tnicht\\teines\\ndarunter\\tist,\\tzu\\tdem\\tdu\\tmehr\\tNeigung\\thast,\\tals\\tzu\\tden\\tandern.\\tVielleicht\\tgefällt\\ndir\\tbloß\\tdas\\tdeines\\tVaters\\tnicht\\tund\\tdu\\twürdest\\tdich\\tbesser\\tzu\\teinem\\tandern\\nanschicken;\\tverhehle\\tmir\\tdeine\\tGesinnung\\n\\thierüber\\tnicht,\\tich\\twill\\tja\\tbloß\\tdein\\nBestes.«\\tAls\\ter\\tsah,\\tdaß\\tAlaeddin\\tnichts\\tantwortete,\\tfuhr\\ter\\tfort:\\t»Ist\\tes\\tdir\\nüberhaupt\\tzuwider,\\tein\\tHandwerk\\tzu\\terlernen\\tund\\twillst\\tdu\\tein\\tangesehener\\nMann\\twerden,\\tso\\twill\\tich\\tfür\\tdich\\teine\\tBude\\tmit\\tkostbaren\\tStoffen\\tund\\tfeinen\\nLinnenzeugen\\teinrichten;\\tdu\\tkannst\\tdann\\tdiese\\tSachen\\tverkaufen,\\tmit\\tdem\\nGelde,\\tdas\\tdu\\tdaraus\\tlösest,\\tden\\tEinkauf\\tneuer\\tWaren\\tbestreiten\\tund\\tauf\\tdiese\\nArt\\tein\\tanständiges\\tUnterkommen\\tfinden.\\tFrage\\tdich\\tselbst\\tund\\tsage\\tmir\\toffen,\\nwas\\tdu\\tdenkst.\\tDu\\twirst\\tmich\\tstets\\tbereit\\tfinden,\\tmein\\tVersprechen\\tzu\\thalten.«\\nDieses\\tAnerbieten\\tschmeichelte\\tAlaeddin\\tsehr;\\tein\\tjedes\\tHandwerk\\twar\\tihm\\nzuwider,\\tum\\tso\\tmehr,\\tda\\ter\\tbemerkt\\thatte,\\tdaß\\tsolche\\tKaufläden,\\twovon\\tsein\\nOheim\\tgesprochen\\thatte,\\timmer\\thübsch\\tund\\tstark\\tbesucht\\tund\\tdie\\tKaufleute\\tgut\\ngekleidet\\tund\\tsehr\\tgeachtet\\twaren.\\tEr\\terklärte\\tdaher\\tdem\\tafrikanischen\\tZauberer,\\ndaß\\tseine\\tNeigung\\tmehr\\tnach\\tdieser\\tSeite\\tgerichtet\\tsei,\\tals\\tnach\\tjeder\\tandern,\\nund\\tdaß\\ter\\tihm\\tzeitlebens\\tfür\\tdie\\tWohltat\\tdanken\\twürde,\\tdie\\ter\\tihm\\terweisen\\nwolle.\\t»Da\\tdieses\\tGewerbe\\tdir\\tangenehm\\tist,«\\terwiderte\\tder\\tafrikanische\\nZauberer,\\t»so\\twerde\\tich\\tdich\\tmorgen\\tmitnehmen\\tund\\tdich\\tso\\thübsch\\tund\\treich\\nkleiden\\tlassen,\\twie\\tes\\tsich\\tfür\\teinen\\tder\\tersten\\tKaufleute\\tin\\tdieser\\tStadt\\tgeziemt;\\nübermorgen\\twollen\\twir\\tdann\\tdarauf\\tdenken,\\teinen\\tsolchen\\tLaden\\tzu\\terrichten,\\nwie\\tich\\tim\\tSinn\\thabe.«\\nAlaeddins\\tMutter,\\tdie\\tbis\\tjetzt\\tnicht\\tgeglaubt\\thatte,\\tdaß\\tder\\tafrikanische\\nZauberer\\tder\\tBruder\\tihres\\tMannes\\tsei,\\tzweifelte\\tnach\\tsolch\\tglänzenden', metadata={'source': 'data\\\\Alaeddin-und-die-Wunderlampe.pdf', 'page': 7}),\n",
       " Document(page_content='Alaeddin\\nund\\tdie\\tWunderlampe\\nAus\\nTausend\\tund\\teine\\tNacht\\nmit\\t11\\tVollbildern\\nu.\\tder\\tBuchausstattung\\nvon\\tF.\\tStaeger.\\nHugo\\tSchmidt\\tVerlag\\nMünchen\\nTextrevision\\tbesorgte\\tKurt\\tMoreck\\nCopyright\\t1919\\tby\\tHugo\\tSchmidt\\tVerlag,\\tMünchen\\nAlle\\tRechte,\\tinsbesondere\\tdas\\tan\\tden\\tAbbildungen,\\tvorbehalten\\nHUGO\\tSCHMIDT\\tVERLAG', metadata={'source': 'data\\\\Alaeddin-und-die-Wunderlampe.pdf', 'page': 2})]"
      ]
     },
     "execution_count": 18,
     "metadata": {},
     "output_type": "execute_result"
    }
   ],
   "source": [
    "vector_store.similarity_search(\"Wer ist Alaeddin?\", k=4)"
   ]
  },
  {
   "cell_type": "markdown",
   "metadata": {},
   "source": [
    "# Simple bm25 Keywoard search addon"
   ]
  },
  {
   "cell_type": "code",
   "execution_count": null,
   "metadata": {},
   "outputs": [
    {
     "name": "stdout",
     "output_type": "stream",
     "text": [
      "Requirement already satisfied: rank_bm25 in c:\\onecx\\.venv\\lib\\site-packages (0.2.2)\n",
      "Requirement already satisfied: numpy in c:\\onecx\\.venv\\lib\\site-packages (from rank_bm25) (1.26.2)\n"
     ]
    },
    {
     "name": "stderr",
     "output_type": "stream",
     "text": [
      "\n",
      "[notice] A new release of pip is available: 23.1.2 -> 23.3.1\n",
      "[notice] To update, run: python.exe -m pip install --upgrade pip\n"
     ]
    }
   ],
   "source": [
    "!pip install rank_bm25"
   ]
  },
  {
   "cell_type": "code",
   "execution_count": null,
   "metadata": {},
   "outputs": [],
   "source": [
    "from langchain.retrievers import BM25Retriever\n",
    "\n",
    "bm25_retriever = BM25Retriever.from_documents(documents=documents)"
   ]
  },
  {
   "cell_type": "markdown",
   "metadata": {},
   "source": [
    "# Reranking\n",
    "Resource 1: https://www.sbert.net/examples/applications/retrieve_rerank/README.html\n",
    "## Cross-Encoder\n",
    "Starting rerankin with an additional Cross-Encoder as supported by SentenceTransformers (https://www.sbert.net/examples/applications/cross-encoder/README.html)"
   ]
  },
  {
   "cell_type": "code",
   "execution_count": null,
   "metadata": {},
   "outputs": [],
   "source": [
    "from sentence_transformers.cross_encoder import CrossEncoder\n",
    "\n",
    "cross_model = CrossEncoder(model_name=RERANK_MODEL)"
   ]
  },
  {
   "cell_type": "code",
   "execution_count": null,
   "metadata": {},
   "outputs": [
    {
     "data": {
      "text/plain": [
       "4"
      ]
     },
     "execution_count": 22,
     "metadata": {},
     "output_type": "execute_result"
    }
   ],
   "source": [
    "# Retrieve top 100 passages with MMR and Cos Similarity each\n",
    "cos_documents = vector_store.similarity_search(QUERY, k=FETCH_K)\n",
    "\n",
    "mmr_documents = vector_store.max_marginal_relevance_search(QUERY, k=FETCH_K, fetch_k=FETCH_K*2)\n",
    "\n",
    "# Retrieve top 100 passages with BM25 Keyword search\n",
    "bm25_documents = bm25_retriever.get_relevant_documents(QUERY)\n",
    "len(bm25_documents)"
   ]
  },
  {
   "cell_type": "code",
   "execution_count": null,
   "metadata": {},
   "outputs": [],
   "source": [
    "# Add bm25 docs to cos and mmr docs\n",
    "cos_documents = cos_documents + bm25_documents\n",
    "mmr_documents = mmr_documents + bm25_documents"
   ]
  },
  {
   "cell_type": "code",
   "execution_count": null,
   "metadata": {},
   "outputs": [
    {
     "name": "stderr",
     "output_type": "stream",
     "text": [
      "Batches: 100%|██████████| 4/4 [01:10<00:00, 17.71s/it]\n",
      "Batches: 100%|██████████| 4/4 [01:03<00:00, 15.99s/it]\n"
     ]
    }
   ],
   "source": [
    "# get cross encoder score for query to passage\n",
    "cos_combinations = [[QUERY, document.page_content] for document in cos_documents]\n",
    "mmr_combinations = [[QUERY, document.page_content] for document in mmr_documents]\n",
    "\n",
    "cos_similarity_scores = cross_model.predict(cos_combinations, show_progress_bar=True)\n",
    "mmr_similarity_scores = cross_model.predict(mmr_combinations, show_progress_bar=True)"
   ]
  },
  {
   "cell_type": "code",
   "execution_count": null,
   "metadata": {},
   "outputs": [],
   "source": [
    "import numpy as np\n",
    "\n",
    "# Sort scores\n",
    "cos_similarity_scores_sorted = np.argsort(cos_similarity_scores)\n",
    "mmr_similarity_scores_sorted = np.argsort(mmr_similarity_scores)"
   ]
  },
  {
   "cell_type": "code",
   "execution_count": null,
   "metadata": {},
   "outputs": [
    {
     "name": "stdout",
     "output_type": "stream",
     "text": [
      "Query:  Wer ist Alaeddin?\n",
      "-11.84\t93\n",
      "-11.84\t99\n",
      "-11.84\t98\n",
      "-11.84\t97\n",
      "-11.84\t96\n",
      "-11.84\t95\n",
      "-11.84\t94\n",
      "-11.84\t89\n",
      "-11.84\t92\n",
      "-11.84\t91\n",
      "-11.84\t90\n",
      "-9.23\t78\n",
      "-6.70\t81\n",
      "-6.26\t86\n",
      "-6.23\t88\n",
      "-6.14\t84\n",
      "-5.52\t79\n",
      "-5.24\t80\n",
      "-4.20\t85\n",
      "-2.88\t76\n",
      "-1.58\t82\n",
      "-1.40\t87\n",
      "-1.05\t67\n",
      "-0.99\t69\n",
      "-0.74\t74\n",
      "-0.58\t83\n",
      "-0.38\t68\n",
      "-0.34\t22\n",
      "-0.06\t101\n",
      "-0.06\t66\n",
      "0.08\t62\n",
      "0.33\t55\n",
      "0.43\t14\n",
      "0.48\t64\n",
      "0.57\t37\n",
      "0.59\t43\n",
      "0.67\t45\n",
      "0.73\t71\n",
      "0.75\t33\n",
      "0.78\t52\n",
      "0.79\t51\n",
      "0.85\t46\n",
      "0.86\t61\n",
      "0.89\t73\n",
      "0.89\t103\n",
      "0.98\t1\n",
      "1.05\t63\n",
      "1.14\t2\n",
      "1.14\t48\n",
      "1.21\t77\n",
      "1.27\t4\n",
      "1.29\t31\n",
      "1.29\t38\n",
      "1.32\t35\n",
      "1.33\t58\n",
      "1.37\t23\n",
      "1.41\t28\n",
      "1.51\t27\n",
      "1.56\t5\n",
      "1.57\t72\n",
      "1.65\t75\n",
      "1.66\t6\n",
      "1.70\t21\n",
      "1.74\t29\n",
      "1.75\t59\n",
      "1.79\t25\n",
      "1.81\t12\n",
      "1.86\t8\n",
      "1.86\t44\n",
      "1.93\t57\n",
      "2.03\t7\n",
      "2.08\t24\n",
      "2.20\t16\n",
      "2.21\t50\n",
      "2.30\t100\n",
      "2.30\t20\n",
      "2.37\t54\n",
      "2.39\t102\n",
      "2.39\t70\n",
      "2.40\t9\n",
      "2.48\t32\n",
      "2.50\t42\n",
      "2.65\t41\n",
      "2.67\t36\n",
      "2.88\t10\n",
      "2.92\t26\n",
      "2.97\t15\n",
      "3.00\t39\n",
      "3.02\t40\n",
      "3.06\t3\n",
      "3.06\t53\n",
      "3.11\t19\n",
      "3.19\t47\n",
      "3.49\t30\n",
      "3.52\t17\n",
      "3.65\t60\n",
      "3.84\t13\n",
      "3.90\t18\n",
      "3.97\t49\n",
      "4.18\t56\n",
      "4.23\t34\n",
      "4.66\t65\n",
      "4.80\t11\n",
      "8.20\t0\n"
     ]
    }
   ],
   "source": [
    "# Print scores for cos sim\n",
    "print(\"Query: \", QUERY)\n",
    "for idx in cos_similarity_scores_sorted:\n",
    "    print(\"{:.2f}\\t{}\".format(cos_similarity_scores[idx], idx))"
   ]
  },
  {
   "cell_type": "code",
   "execution_count": null,
   "metadata": {},
   "outputs": [
    {
     "name": "stdout",
     "output_type": "stream",
     "text": [
      "Query:  Wer ist Alaeddin?\n",
      "-11.84\t99\n",
      "-11.84\t1\n",
      "-11.84\t97\n",
      "-11.84\t96\n",
      "-11.84\t98\n",
      "-10.91\t95\n",
      "-10.82\t92\n",
      "-10.34\t94\n",
      "-9.71\t93\n",
      "-9.61\t90\n",
      "-9.23\t81\n",
      "-8.98\t4\n",
      "-6.70\t86\n",
      "-6.26\t89\n",
      "-6.23\t91\n",
      "-6.14\t76\n",
      "-5.52\t88\n",
      "-5.24\t84\n",
      "-4.20\t71\n",
      "-2.88\t73\n",
      "-1.58\t64\n",
      "-1.40\t87\n",
      "-1.05\t59\n",
      "-0.99\t38\n",
      "-0.74\t69\n",
      "-0.58\t5\n",
      "-0.38\t56\n",
      "-0.34\t42\n",
      "-0.06\t101\n",
      "-0.06\t58\n",
      "0.08\t34\n",
      "0.33\t82\n",
      "0.43\t9\n",
      "0.48\t70\n",
      "0.57\t29\n",
      "0.59\t57\n",
      "0.67\t61\n",
      "0.73\t74\n",
      "0.75\t45\n",
      "0.78\t77\n",
      "0.79\t68\n",
      "0.85\t53\n",
      "0.86\t47\n",
      "0.89\t83\n",
      "0.89\t103\n",
      "0.98\t3\n",
      "1.05\t72\n",
      "1.14\t10\n",
      "1.14\t66\n",
      "1.21\t85\n",
      "1.27\t23\n",
      "1.29\t52\n",
      "1.29\t46\n",
      "1.32\t15\n",
      "1.33\t65\n",
      "1.37\t30\n",
      "1.41\t28\n",
      "1.51\t36\n",
      "1.56\t7\n",
      "1.57\t79\n",
      "1.65\t50\n",
      "1.66\t6\n",
      "1.70\t21\n",
      "1.74\t44\n",
      "1.75\t43\n",
      "1.79\t18\n",
      "1.81\t31\n",
      "1.86\t24\n",
      "1.86\t41\n",
      "1.93\t33\n",
      "2.03\t11\n",
      "2.08\t62\n",
      "2.20\t54\n",
      "2.21\t78\n",
      "2.30\t100\n",
      "2.30\t17\n",
      "2.37\t39\n",
      "2.39\t75\n",
      "2.39\t102\n",
      "2.40\t13\n",
      "2.48\t37\n",
      "2.50\t32\n",
      "2.65\t80\n",
      "2.67\t27\n",
      "2.88\t14\n",
      "2.92\t16\n",
      "2.97\t26\n",
      "3.00\t48\n",
      "3.02\t8\n",
      "3.06\t2\n",
      "3.06\t60\n",
      "3.11\t20\n",
      "3.19\t63\n",
      "3.49\t55\n",
      "3.52\t40\n",
      "3.65\t22\n",
      "3.84\t25\n",
      "3.90\t19\n",
      "3.97\t49\n",
      "4.18\t67\n",
      "4.23\t51\n",
      "4.66\t35\n",
      "4.80\t12\n",
      "8.20\t0\n"
     ]
    }
   ],
   "source": [
    "# Print scores for mmr sim\n",
    "print(\"Query: \", QUERY)\n",
    "for idx in mmr_similarity_scores_sorted:\n",
    "    print(\"{:.2f}\\t{}\".format(mmr_similarity_scores[idx], idx))"
   ]
  },
  {
   "cell_type": "code",
   "execution_count": null,
   "metadata": {},
   "outputs": [
    {
     "data": {
      "text/plain": [
       "['Wer ist Alaeddin?',\n",
       " 'Alaeddin\\tund\\tdie\\tWunderlampe\\nM\\nustafa\\twar\\tder\\tName\\teines\\tSchneiders,\\tder\\tin\\teiner\\tsehr\\treichen\\tund\\tgroßen\\nHauptstadt\\tChinas\\tlebte.\\tDieser\\tMustafa\\twar\\tsehr\\tarm,\\tund\\tseine\\tArbeit\\twarf\\nkaum\\tso\\tviel\\tab,\\tdaß\\ter,\\tseine\\tFrau\\tund\\tein\\tSohn\\tdavon\\tleben\\tkonnten.\\nDie\\tErziehung\\tdieses\\tSohnes,\\twelcher\\tAlaeddin\\thieß,\\twar\\tsehr\\tvernachlässigt\\nworden,\\tso\\tdaß\\ter\\tallerhand\\tlasterhafte\\tNeigungen\\tangenommen\\thatte.\\tEr\\twar\\nboshaft,\\thalsstarrig\\tund\\tungehorsam\\tgegen\\tVater\\tund\\tMutter.\\tKaum\\twar\\ter\\tein\\nwenig\\therangewachsen,\\tso\\tkonnten\\tihn\\tseine\\tEltern\\tnicht\\tmehr\\tim\\tHause\\nzurückhalten.\\tEr\\tging\\tschon\\tam\\tfrühen\\tMorgen\\taus\\tund\\ttat\\tden\\tganzen\\tTag\\nnichts,\\tals\\tauf\\tden\\tStraßen\\tund\\töffentlichen\\tPlätzen\\tmit\\tkleinen\\tTagdieben\\nspielen.\\nAls\\ter\\tein\\tHandwerk\\terlernen\\tsollte,\\tnahm\\tihn\\tsein\\tVater\\tin\\tseine\\tBude\\tund\\nfing\\tan,\\tihn\\tin\\tder\\tHandhabung\\tder\\tNadel\\tzu\\tunterrichten.\\tAllein\\tweder\\tgute\\nWorte\\tnoch\\tDrohungen\\tvermochten\\tden\\tflatterhaften\\tSinn\\tdes\\tSohnes\\tzu\\tfesseln.\\nKaum\\thatte\\tMustafa\\tihm\\tden\\tRücken\\tgekehrt,\\tso\\tentwischte\\tAlaeddin\\tund\\tließ\\nsich\\tden\\tganzen\\tTag\\tnicht\\twieder\\tsehen.\\tDer\\tVater\\tzüchtigte\\tihn,\\taber\\tAlaeddin\\nwar\\tunverbesserlich,\\tund\\tMustafa\\tmußte\\tihn\\tmit\\tgroßem\\tBedauern\\tzuletzt\\nseinem\\tliederlichen\\tLeben\\tüberlassen.\\tDies\\tverursachte\\tihm\\tgroßes\\tHerzeleid,\\nund\\tder\\tKummer\\tzog\\tihm\\teine\\thartnäckige\\tKrankheit\\tzu,\\tan\\tder\\ter\\tnach\\teinigen\\nMonaten\\tstarb.\\nAlaeddins\\tMutter\\tmachte\\tdarauf\\talles\\tzu\\tGeld,\\tum\\tdavon,\\tund\\tvon\\tdem\\nWenigen,\\twas\\tsie\\tmit\\tBaumwollespinnen\\terwarb,\\tmit\\tihrem\\tSohne\\tleben\\tzu\\nkönnen.\\nAlaeddin,\\tder\\tjetzt\\tnicht\\tmehr\\tdurch\\tdie\\tFurcht\\tvor\\tseinem\\tVater\\tin\\tSchranken\\ngehalten\\twurde,\\tbekümmerte\\tsich\\tnicht\\tum\\tseine\\tMutter.\\tEr\\tsuchte\\tnoch\\tmehr\\nals\\tzuvor\\tjunge\\tLeute\\tvon\\tseinem\\tAlter\\tauf\\tund\\tspielte\\tmit\\tihnen\\tunaufhörlich\\nnoch\\tleidenschaftlicher\\n\\tals\\tbisher.\\tDiesen\\tLebenswandel\\tsetzte\\ter\\tbis\\tin\\tsein']"
      ]
     },
     "execution_count": 28,
     "metadata": {},
     "output_type": "execute_result"
    }
   ],
   "source": [
    "cos_combinations[0]"
   ]
  },
  {
   "cell_type": "code",
   "execution_count": null,
   "metadata": {},
   "outputs": [
    {
     "data": {
      "text/plain": [
       "'Alaeddin\\tund\\tdie\\tWunderlampe\\nM\\nustafa\\twar\\tder\\tName\\teines\\tSchneiders,\\tder\\tin\\teiner\\tsehr\\treichen\\tund\\tgroßen\\nHauptstadt\\tChinas\\tlebte.\\tDieser\\tMustafa\\twar\\tsehr\\tarm,\\tund\\tseine\\tArbeit\\twarf\\nkaum\\tso\\tviel\\tab,\\tdaß\\ter,\\tseine\\tFrau\\tund\\tein\\tSohn\\tdavon\\tleben\\tkonnten.\\nDie\\tErziehung\\tdieses\\tSohnes,\\twelcher\\tAlaeddin\\thieß,\\twar\\tsehr\\tvernachlässigt\\nworden,\\tso\\tdaß\\ter\\tallerhand\\tlasterhafte\\tNeigungen\\tangenommen\\thatte.\\tEr\\twar\\nboshaft,\\thalsstarrig\\tund\\tungehorsam\\tgegen\\tVater\\tund\\tMutter.\\tKaum\\twar\\ter\\tein\\nwenig\\therangewachsen,\\tso\\tkonnten\\tihn\\tseine\\tEltern\\tnicht\\tmehr\\tim\\tHause\\nzurückhalten.\\tEr\\tging\\tschon\\tam\\tfrühen\\tMorgen\\taus\\tund\\ttat\\tden\\tganzen\\tTag\\nnichts,\\tals\\tauf\\tden\\tStraßen\\tund\\töffentlichen\\tPlätzen\\tmit\\tkleinen\\tTagdieben\\nspielen.\\nAls\\ter\\tein\\tHandwerk\\terlernen\\tsollte,\\tnahm\\tihn\\tsein\\tVater\\tin\\tseine\\tBude\\tund\\nfing\\tan,\\tihn\\tin\\tder\\tHandhabung\\tder\\tNadel\\tzu\\tunterrichten.\\tAllein\\tweder\\tgute\\nWorte\\tnoch\\tDrohungen\\tvermochten\\tden\\tflatterhaften\\tSinn\\tdes\\tSohnes\\tzu\\tfesseln.\\nKaum\\thatte\\tMustafa\\tihm\\tden\\tRücken\\tgekehrt,\\tso\\tentwischte\\tAlaeddin\\tund\\tließ\\nsich\\tden\\tganzen\\tTag\\tnicht\\twieder\\tsehen.\\tDer\\tVater\\tzüchtigte\\tihn,\\taber\\tAlaeddin\\nwar\\tunverbesserlich,\\tund\\tMustafa\\tmußte\\tihn\\tmit\\tgroßem\\tBedauern\\tzuletzt\\nseinem\\tliederlichen\\tLeben\\tüberlassen.\\tDies\\tverursachte\\tihm\\tgroßes\\tHerzeleid,\\nund\\tder\\tKummer\\tzog\\tihm\\teine\\thartnäckige\\tKrankheit\\tzu,\\tan\\tder\\ter\\tnach\\teinigen\\nMonaten\\tstarb.\\nAlaeddins\\tMutter\\tmachte\\tdarauf\\talles\\tzu\\tGeld,\\tum\\tdavon,\\tund\\tvon\\tdem\\nWenigen,\\twas\\tsie\\tmit\\tBaumwollespinnen\\terwarb,\\tmit\\tihrem\\tSohne\\tleben\\tzu\\nkönnen.\\nAlaeddin,\\tder\\tjetzt\\tnicht\\tmehr\\tdurch\\tdie\\tFurcht\\tvor\\tseinem\\tVater\\tin\\tSchranken\\ngehalten\\twurde,\\tbekümmerte\\tsich\\tnicht\\tum\\tseine\\tMutter.\\tEr\\tsuchte\\tnoch\\tmehr\\nals\\tzuvor\\tjunge\\tLeute\\tvon\\tseinem\\tAlter\\tauf\\tund\\tspielte\\tmit\\tihnen\\tunaufhörlich\\nnoch\\tleidenschaftlicher\\n\\tals\\tbisher.\\tDiesen\\tLebenswandel\\tsetzte\\ter\\tbis\\tin\\tsein'"
      ]
     },
     "execution_count": 29,
     "metadata": {},
     "output_type": "execute_result"
    }
   ],
   "source": [
    "cos_documents[0].page_content"
   ]
  },
  {
   "cell_type": "code",
   "execution_count": null,
   "metadata": {},
   "outputs": [
    {
     "data": {
      "text/plain": [
       "'Alaeddin\\tund\\tdie\\tWunderlampe\\nM\\nustafa\\twar\\tder\\tName\\teines\\tSchneiders,\\tder\\tin\\teiner\\tsehr\\treichen\\tund\\tgroßen\\nHauptstadt\\tChinas\\tlebte.\\tDieser\\tMustafa\\twar\\tsehr\\tarm,\\tund\\tseine\\tArbeit\\twarf\\nkaum\\tso\\tviel\\tab,\\tdaß\\ter,\\tseine\\tFrau\\tund\\tein\\tSohn\\tdavon\\tleben\\tkonnten.\\nDie\\tErziehung\\tdieses\\tSohnes,\\twelcher\\tAlaeddin\\thieß,\\twar\\tsehr\\tvernachlässigt\\nworden,\\tso\\tdaß\\ter\\tallerhand\\tlasterhafte\\tNeigungen\\tangenommen\\thatte.\\tEr\\twar\\nboshaft,\\thalsstarrig\\tund\\tungehorsam\\tgegen\\tVater\\tund\\tMutter.\\tKaum\\twar\\ter\\tein\\nwenig\\therangewachsen,\\tso\\tkonnten\\tihn\\tseine\\tEltern\\tnicht\\tmehr\\tim\\tHause\\nzurückhalten.\\tEr\\tging\\tschon\\tam\\tfrühen\\tMorgen\\taus\\tund\\ttat\\tden\\tganzen\\tTag\\nnichts,\\tals\\tauf\\tden\\tStraßen\\tund\\töffentlichen\\tPlätzen\\tmit\\tkleinen\\tTagdieben\\nspielen.\\nAls\\ter\\tein\\tHandwerk\\terlernen\\tsollte,\\tnahm\\tihn\\tsein\\tVater\\tin\\tseine\\tBude\\tund\\nfing\\tan,\\tihn\\tin\\tder\\tHandhabung\\tder\\tNadel\\tzu\\tunterrichten.\\tAllein\\tweder\\tgute\\nWorte\\tnoch\\tDrohungen\\tvermochten\\tden\\tflatterhaften\\tSinn\\tdes\\tSohnes\\tzu\\tfesseln.\\nKaum\\thatte\\tMustafa\\tihm\\tden\\tRücken\\tgekehrt,\\tso\\tentwischte\\tAlaeddin\\tund\\tließ\\nsich\\tden\\tganzen\\tTag\\tnicht\\twieder\\tsehen.\\tDer\\tVater\\tzüchtigte\\tihn,\\taber\\tAlaeddin\\nwar\\tunverbesserlich,\\tund\\tMustafa\\tmußte\\tihn\\tmit\\tgroßem\\tBedauern\\tzuletzt\\nseinem\\tliederlichen\\tLeben\\tüberlassen.\\tDies\\tverursachte\\tihm\\tgroßes\\tHerzeleid,\\nund\\tder\\tKummer\\tzog\\tihm\\teine\\thartnäckige\\tKrankheit\\tzu,\\tan\\tder\\ter\\tnach\\teinigen\\nMonaten\\tstarb.\\nAlaeddins\\tMutter\\tmachte\\tdarauf\\talles\\tzu\\tGeld,\\tum\\tdavon,\\tund\\tvon\\tdem\\nWenigen,\\twas\\tsie\\tmit\\tBaumwollespinnen\\terwarb,\\tmit\\tihrem\\tSohne\\tleben\\tzu\\nkönnen.\\nAlaeddin,\\tder\\tjetzt\\tnicht\\tmehr\\tdurch\\tdie\\tFurcht\\tvor\\tseinem\\tVater\\tin\\tSchranken\\ngehalten\\twurde,\\tbekümmerte\\tsich\\tnicht\\tum\\tseine\\tMutter.\\tEr\\tsuchte\\tnoch\\tmehr\\nals\\tzuvor\\tjunge\\tLeute\\tvon\\tseinem\\tAlter\\tauf\\tund\\tspielte\\tmit\\tihnen\\tunaufhörlich\\nnoch\\tleidenschaftlicher\\n\\tals\\tbisher.\\tDiesen\\tLebenswandel\\tsetzte\\ter\\tbis\\tin\\tsein'"
      ]
     },
     "execution_count": 30,
     "metadata": {},
     "output_type": "execute_result"
    }
   ],
   "source": [
    "mmr_documents[0].page_content"
   ]
  },
  {
   "cell_type": "markdown",
   "metadata": {},
   "source": [
    "# Cohere Rerank comparison"
   ]
  },
  {
   "cell_type": "code",
   "execution_count": null,
   "metadata": {},
   "outputs": [
    {
     "name": "stdout",
     "output_type": "stream",
     "text": [
      "Requirement already satisfied: cohere in c:\\onecx\\.venv\\lib\\site-packages (4.35)\n",
      "Requirement already satisfied: aiohttp<4.0,>=3.0 in c:\\onecx\\.venv\\lib\\site-packages (from cohere) (3.9.0)\n",
      "Requirement already satisfied: backoff<3.0,>=2.0 in c:\\onecx\\.venv\\lib\\site-packages (from cohere) (2.2.1)\n",
      "Requirement already satisfied: fastavro==1.8.2 in c:\\onecx\\.venv\\lib\\site-packages (from cohere) (1.8.2)\n",
      "Requirement already satisfied: importlib_metadata<7.0,>=6.0 in c:\\onecx\\.venv\\lib\\site-packages (from cohere) (6.8.0)\n",
      "Requirement already satisfied: requests<3.0.0,>=2.25.0 in c:\\onecx\\.venv\\lib\\site-packages (from cohere) (2.31.0)\n",
      "Requirement already satisfied: urllib3<3,>=1.26 in c:\\onecx\\.venv\\lib\\site-packages (from cohere) (1.26.18)\n",
      "Requirement already satisfied: attrs>=17.3.0 in c:\\onecx\\.venv\\lib\\site-packages (from aiohttp<4.0,>=3.0->cohere) (23.1.0)\n",
      "Requirement already satisfied: multidict<7.0,>=4.5 in c:\\onecx\\.venv\\lib\\site-packages (from aiohttp<4.0,>=3.0->cohere) (6.0.4)\n",
      "Requirement already satisfied: yarl<2.0,>=1.0 in c:\\onecx\\.venv\\lib\\site-packages (from aiohttp<4.0,>=3.0->cohere) (1.9.3)\n",
      "Requirement already satisfied: frozenlist>=1.1.1 in c:\\onecx\\.venv\\lib\\site-packages (from aiohttp<4.0,>=3.0->cohere) (1.4.0)\n",
      "Requirement already satisfied: aiosignal>=1.1.2 in c:\\onecx\\.venv\\lib\\site-packages (from aiohttp<4.0,>=3.0->cohere) (1.3.1)\n",
      "Requirement already satisfied: zipp>=0.5 in c:\\onecx\\.venv\\lib\\site-packages (from importlib_metadata<7.0,>=6.0->cohere) (3.17.0)\n",
      "Requirement already satisfied: charset-normalizer<4,>=2 in c:\\onecx\\.venv\\lib\\site-packages (from requests<3.0.0,>=2.25.0->cohere) (3.3.2)\n",
      "Requirement already satisfied: idna<4,>=2.5 in c:\\onecx\\.venv\\lib\\site-packages (from requests<3.0.0,>=2.25.0->cohere) (3.4)\n",
      "Requirement already satisfied: certifi>=2017.4.17 in c:\\onecx\\.venv\\lib\\site-packages (from requests<3.0.0,>=2.25.0->cohere) (2023.7.22)\n"
     ]
    },
    {
     "name": "stderr",
     "output_type": "stream",
     "text": [
      "\n",
      "[notice] A new release of pip is available: 23.1.2 -> 23.3.1\n",
      "[notice] To update, run: python.exe -m pip install --upgrade pip\n"
     ]
    }
   ],
   "source": [
    "!pip install cohere"
   ]
  },
  {
   "cell_type": "code",
   "execution_count": null,
   "metadata": {},
   "outputs": [],
   "source": [
    "api_key = COHERE_API_KEY"
   ]
  },
  {
   "cell_type": "code",
   "execution_count": null,
   "metadata": {},
   "outputs": [],
   "source": [
    "import cohere\n",
    "cohere_client = cohere.Client(api_key)"
   ]
  },
  {
   "cell_type": "code",
   "execution_count": null,
   "metadata": {},
   "outputs": [],
   "source": [
    "cos_docs = [document.page_content for document in cos_documents]\n",
    "mmr_docs = [document.page_content for document in mmr_documents]\n",
    "\n",
    "cos_cohere = cohere_client.rerank(model=\"rerank-multilingual-v2.0\", query=QUERY, documents=cos_docs, top_n=RERANK_K)\n",
    "mmr_cohere = cohere_client.rerank(model=\"rerank-multilingual-v2.0\", query=QUERY, documents=mmr_docs, top_n=RERANK_K)"
   ]
  },
  {
   "cell_type": "code",
   "execution_count": null,
   "metadata": {},
   "outputs": [
    {
     "data": {
      "text/plain": [
       "RerankResult<document['text']: Alaeddin\tund\tdie\tWunderlampe\n",
       "M\n",
       "ustafa\twar\tder\tName\teines\tSchneiders,\tder\tin\teiner\tsehr\treichen\tund\tgroßen\n",
       "Hauptstadt\tChinas\tlebte.\tDieser\tMustafa\twar\tsehr\tarm,\tund\tseine\tArbeit\twarf\n",
       "kaum\tso\tviel\tab,\tdaß\ter,\tseine\tFrau\tund\tein\tSohn\tdavon\tleben\tkonnten.\n",
       "Die\tErziehung\tdieses\tSohnes,\twelcher\tAlaeddin\thieß,\twar\tsehr\tvernachlässigt\n",
       "worden,\tso\tdaß\ter\tallerhand\tlasterhafte\tNeigungen\tangenommen\thatte.\tEr\twar\n",
       "boshaft,\thalsstarrig\tund\tungehorsam\tgegen\tVater\tund\tMutter.\tKaum\twar\ter\tein\n",
       "wenig\therangewachsen,\tso\tkonnten\tihn\tseine\tEltern\tnicht\tmehr\tim\tHause\n",
       "zurückhalten.\tEr\tging\tschon\tam\tfrühen\tMorgen\taus\tund\ttat\tden\tganzen\tTag\n",
       "nichts,\tals\tauf\tden\tStraßen\tund\töffentlichen\tPlätzen\tmit\tkleinen\tTagdieben\n",
       "spielen.\n",
       "Als\ter\tein\tHandwerk\terlernen\tsollte,\tnahm\tihn\tsein\tVater\tin\tseine\tBude\tund\n",
       "fing\tan,\tihn\tin\tder\tHandhabung\tder\tNadel\tzu\tunterrichten.\tAllein\tweder\tgute\n",
       "Worte\tnoch\tDrohungen\tvermochten\tden\tflatterhaften\tSinn\tdes\tSohnes\tzu\tfesseln.\n",
       "Kaum\thatte\tMustafa\tihm\tden\tRücken\tgekehrt,\tso\tentwischte\tAlaeddin\tund\tließ\n",
       "sich\tden\tganzen\tTag\tnicht\twieder\tsehen.\tDer\tVater\tzüchtigte\tihn,\taber\tAlaeddin\n",
       "war\tunverbesserlich,\tund\tMustafa\tmußte\tihn\tmit\tgroßem\tBedauern\tzuletzt\n",
       "seinem\tliederlichen\tLeben\tüberlassen.\tDies\tverursachte\tihm\tgroßes\tHerzeleid,\n",
       "und\tder\tKummer\tzog\tihm\teine\thartnäckige\tKrankheit\tzu,\tan\tder\ter\tnach\teinigen\n",
       "Monaten\tstarb.\n",
       "Alaeddins\tMutter\tmachte\tdarauf\talles\tzu\tGeld,\tum\tdavon,\tund\tvon\tdem\n",
       "Wenigen,\twas\tsie\tmit\tBaumwollespinnen\terwarb,\tmit\tihrem\tSohne\tleben\tzu\n",
       "können.\n",
       "Alaeddin,\tder\tjetzt\tnicht\tmehr\tdurch\tdie\tFurcht\tvor\tseinem\tVater\tin\tSchranken\n",
       "gehalten\twurde,\tbekümmerte\tsich\tnicht\tum\tseine\tMutter.\tEr\tsuchte\tnoch\tmehr\n",
       "als\tzuvor\tjunge\tLeute\tvon\tseinem\tAlter\tauf\tund\tspielte\tmit\tihnen\tunaufhörlich\n",
       "noch\tleidenschaftlicher\n",
       "\tals\tbisher.\tDiesen\tLebenswandel\tsetzte\ter\tbis\tin\tsein, index: 0, relevance_score: 0.99845123>"
      ]
     },
     "execution_count": 35,
     "metadata": {},
     "output_type": "execute_result"
    }
   ],
   "source": [
    "cos_cohere.results[0]"
   ]
  },
  {
   "cell_type": "markdown",
   "metadata": {},
   "source": [
    "# Compare top 10 results\n",
    "Now we compare how any of the cohere top 10 results are part of the top 10 results of the open source cross encoder model"
   ]
  },
  {
   "cell_type": "code",
   "execution_count": null,
   "metadata": {},
   "outputs": [
    {
     "data": {
      "text/plain": [
       "[0, 61, 18, 34, 39]"
      ]
     },
     "execution_count": 36,
     "metadata": {},
     "output_type": "execute_result"
    }
   ],
   "source": [
    "cohere_idx = []\n",
    "\n",
    "for doc in cos_cohere.results:\n",
    "    cohere_idx.append(doc.index)\n",
    "\n",
    "cohere_idx"
   ]
  },
  {
   "cell_type": "code",
   "execution_count": null,
   "metadata": {},
   "outputs": [
    {
     "data": {
      "text/plain": [
       "[56, 34, 65, 11, 0]"
      ]
     },
     "execution_count": 37,
     "metadata": {},
     "output_type": "execute_result"
    }
   ],
   "source": [
    "i = 0\n",
    "cos_idx = []\n",
    "\n",
    "for idx in cos_similarity_scores_sorted[-RERANK_K:]:\n",
    "    cos_idx.append(idx)\n",
    "    i += 1\n",
    "    if i == 10:\n",
    "        break\n",
    "cos_idx"
   ]
  },
  {
   "cell_type": "code",
   "execution_count": null,
   "metadata": {},
   "outputs": [
    {
     "data": {
      "text/plain": [
       "[67, 51, 35, 12, 0]"
      ]
     },
     "execution_count": 38,
     "metadata": {},
     "output_type": "execute_result"
    }
   ],
   "source": [
    "i = 0\n",
    "mmr_idx = []\n",
    "\n",
    "for idx in mmr_similarity_scores_sorted[-RERANK_K:]:\n",
    "    mmr_idx.append(idx)\n",
    "    i += 1\n",
    "    if i == 10:\n",
    "        break\n",
    "mmr_idx"
   ]
  },
  {
   "cell_type": "code",
   "execution_count": null,
   "metadata": {},
   "outputs": [],
   "source": [
    "def get_hitrate(source_list, target_list):\n",
    "    hit = 0\n",
    "    total_len = len(target_list)\n",
    "    \n",
    "    for entry in source_list:\n",
    "        if entry in target_list:\n",
    "            hit += 1\n",
    "            \n",
    "    return hit / total_len"
   ]
  },
  {
   "cell_type": "code",
   "execution_count": null,
   "metadata": {},
   "outputs": [
    {
     "name": "stdout",
     "output_type": "stream",
     "text": [
      "Cos similarity rerank cohere hit rate:  0.4\n"
     ]
    }
   ],
   "source": [
    "print(\"Cos similarity rerank cohere hit rate: \", get_hitrate(cos_idx, cohere_idx))"
   ]
  },
  {
   "cell_type": "code",
   "execution_count": null,
   "metadata": {},
   "outputs": [
    {
     "name": "stdout",
     "output_type": "stream",
     "text": [
      "Cos similarity rerank cohere hit rate:  0.2\n"
     ]
    }
   ],
   "source": [
    "print(\"Cos similarity rerank cohere hit rate: \", get_hitrate(mmr_idx, cohere_idx))"
   ]
  },
  {
   "cell_type": "code",
   "execution_count": null,
   "metadata": {},
   "outputs": [
    {
     "data": {
      "text/plain": [
       "Document(page_content='gegenüber\\tsetze,\\tdamit\\tich,\\twenn\\tmir\\tauch\\tdas\\tVergnügen\\tversagt\\tist,\\tihn\\npersönlich\\tals\\tVater\\teiner\\tmir\\tso\\tteuren\\tFamilie\\tzu\\tsehen,\\tmir\\twenigstens\\neinbilden\\tkann,\\ter\\tsitze\\tnoch\\tdort.«\\tAlaeddins\\tMutter\\tdrang\\tnun\\tnicht\\tweiter\\tin\\nihn\\tund\\tließ\\tihn\\tPlatz\\tnehmen,\\two\\ter\\tLust\\thatte.\\nAls\\tder\\tafrikanische\\tZauberer\\tsich\\tda\\tgesetzt\\thatte,\\two\\tes\\tihm\\tam\\tbesten\\nbehagte,\\tfing\\ter\\tein\\tGespräch\\tmit\\tAlaeddins\\tMutter\\tan:\\t»Meine\\tliebe\\nSchwester,«\\tsagte\\ter,\\t»wundere\\tdich\\tnicht,\\tdaß\\tdu\\twährend\\tder\\tganzen\\tZeit,\\tda\\ndu\\tmit\\tmeinem\\tBruder\\tMustafa\\tverheiratet\\twarst,\\tmich\\tnie\\tgesehen\\thast.\\tEs\\tsind\\nschon\\tvierzig\\tJahre,\\tdaß\\tich\\tdieses\\tLand\\tverlassen\\thabe.\\tSeitdem\\thabe\\tich\\nReisen\\tnach\\tIndien,\\tPersien,\\tArabien,\\tSyrien\\tund\\tÄgypten\\tgemacht,\\tmich\\tin\\tden\\nschönsten\\tStädten\\tdieser\\tLänder\\taufgehalten\\tund\\tbin\\tdann\\tnach\\tAfrika\\ngegangen,\\two\\tich\\teinen\\tlängeren\\tAufenthalt\\tnahm.\\tDa\\tes\\tindes\\tdem\\tMenschen\\nangeboren\\tist,\\tsein\\tHeimatland,\\tso\\twie\\tseine\\tEltern\\tund\\tJugendgespielen,\\tauch\\tin\\nder\\tweitesten\\tFerne\\tnie\\taus\\tdem\\tGedächtnis\\tzu\\tverlieren,\\tso\\that\\tauch\\tmich\\tein\\tso\\ngewaltiges\\tVerlangen\\tergriffen,\\tmein\\tVaterland\\twieder\\tzu\\tsehen\\tund\\tmeinen\\ngeliebten\\tBruder\\tzu\\tumarmen,\\tjetzt,\\tda\\tich\\tnoch\\tKraft\\tund\\tMut\\tzu\\teiner\\tso\\nlangen\\tReise\\tin\\tmir\\tfühle,\\tdaß\\tich\\tohne\\tweiteren\\tAufschub\\tmeine\\nVorbereitungen\\ttraf\\tund\\tmich\\tauf\\tden\\tWeg\\tmachte.\\tIch\\tsage\\tdir\\tnichts\\tvon\\tder\\nLänge\\tder\\tZeit,\\tdie\\tich\\tdazu\\tbrauchte,\\tnoch\\tvon\\tden\\tHindernissen,\\tdie\\tmir\\naufstießen,\\tnoch\\tvon\\tall\\tden\\tBeschwerden\\tund\\tMühsalen,\\tdie\\tich\\tüberstehen\\nmußte,\\tum\\thierherzukommen.\\tIch\\tsage\\tdir\\tbloß,\\tdaß\\tmich\\tauf\\tallen\\tmeinen\\nReisen\\tnichts\\tso\\ttief\\tgekränkt\\tund\\tgeschmerzt\\that,\\tals\\tdie\\tNachricht\\tvon\\tdem\\nTode\\teines\\tBruders,\\tden\\tich\\timmer\\tmit\\techt\\tbrüderlicher\\tFreundschaft\\tgeliebt\\nhatte.\\n\\tIch\\tbemerkte\\teinige\\tZüge\\tvon\\tihm\\tauf\\tdem\\tGesicht\\tmeines\\tNeffen,\\tdeines\\nSohnes,\\tund\\tdies\\tmachte,\\tdaß\\tich\\tihn\\taus\\tall\\tden\\tübrigen\\tKindern,\\tbei\\tdenen\\ter\\nwar,\\therausfand.\\tEr\\that\\tdir\\tvielleicht\\terzählt,\\twie\\tsehr\\tdie\\ttraurige\\tNachricht\\tvom\\nTode\\tmeines\\tBruders\\tmich\\tergriff.\\tIndes,\\twas\\tGott\\ttut,\\tdas\\tist\\twohlgetan;\\tich\\ntröste\\tmich,\\tihn\\tin\\tseinem\\tSohne\\twiederzufinden,\\tder\\tso\\tauffallende\\tÄhnlichkeit\\nmit\\tihm\\that.«\\nAls\\tder\\tafrikanische\\tZauberer\\tsah,\\tdaß\\tAlaeddins\\tMutter\\tbei\\tder\\tErinnerung\\nan\\tihren\\tMann\\tgerührt\\twurde\\tund\\taufs\\tneue\\tin\\tSchmerz\\tversank,\\tbrach\\ter\\tdas\\nGespräch\\tab,\\twandte\\tsich\\tzu\\tAlaeddin\\tund\\tfragte\\tihn\\tum\\tseinen\\tNamen.\\t–\\t»Ich\\nheiße\\tAlaeddin,«\\tantwortete\\tdieser.\\t–\\t»Nun\\tgut,\\tAlaeddin,«\\tfuhr\\tder\\tZauberer\\nfort,\\t»womit\\tbeschäftigst\\tdu\\tdich?\\tVerstehst\\tdu\\tein\\tGewerbe?«\\nBei\\tdieser\\tFrage\\tschlug\\tAlaeddin\\tdie\\tAugen\\tnieder\\tund\\tgeriet\\tin\\tVerlegenheit.\\nSeine\\tMutter\\taber\\tnahm\\tdas\\tWort\\tund\\tsagte:\\t»Alaeddin\\tist\\tein\\tTaugenichts.\\tSein\\nVater\\that,\\tso\\tlang\\ter\\tlebte,\\talles\\tmögliche\\tgetan,\\tum\\tihn\\tsein\\tGewerbe\\tzu\\tlehren;', metadata={'source': 'data\\\\Alaeddin-und-die-Wunderlampe.pdf', 'page': 6})"
      ]
     },
     "execution_count": 42,
     "metadata": {},
     "output_type": "execute_result"
    }
   ],
   "source": [
    "cos_documents[61]"
   ]
  },
  {
   "cell_type": "code",
   "execution_count": null,
   "metadata": {},
   "outputs": [],
   "source": []
  }
 ],
 "metadata": {
  "kernelspec": {
   "display_name": ".venv",
   "language": "python",
   "name": "python3"
  },
  "language_info": {
   "codemirror_mode": {
    "name": "ipython",
    "version": 3
   },
   "file_extension": ".py",
   "mimetype": "text/x-python",
   "name": "python",
   "nbconvert_exporter": "python",
   "pygments_lexer": "ipython3",
   "version": "3.11.4"
  }
 },
 "nbformat": 4,
 "nbformat_minor": 2
}
